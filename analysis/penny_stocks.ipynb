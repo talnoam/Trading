{
 "cells": [
  {
   "cell_type": "code",
   "execution_count": 1,
   "metadata": {},
   "outputs": [],
   "source": [
    "import os\n",
    "import sys\n",
    "sys.path.append(os.path.abspath(os.path.dirname(os.getcwd())))\n",
    "sys.path.append(os.path.join(os.path.dirname(os.getcwd()), 'data_fetch'))"
   ]
  },
  {
   "cell_type": "code",
   "execution_count": 75,
   "metadata": {},
   "outputs": [],
   "source": [
    "import re\n",
    "import pandas as pd\n",
    "from yahoo_fin import stock_info as si\n",
    "import yfinance as yf\n",
    "import pytz\n",
    "from datetime import datetime, timedelta\n",
    "from collections import Counter\n",
    "from data_fetch.fetch_reddit_comments import get_existing_spreadsheet, authenticate_google_services\n",
    "from data_fetch.credentials import TRADING_FOLDER_ID\n",
    "from data_fetch.utils import bucket_by_time\n",
    "\n",
    "import plotly.graph_objects as go\n",
    "from plotly.subplots import make_subplots\n",
    "\n",
    "CREDS_PATH = os.path.join(os.path.dirname(os.getcwd()), 'Trading_Access.json')\n",
    "TICKER_PATTERN = r'\\b[A-Z]{2,5}\\b'\n",
    "ISRAEL_TZ = pytz.timezone(\"Asia/Jerusalem\")\n",
    "interval_minutes = 5"
   ]
  },
  {
   "cell_type": "code",
   "execution_count": 77,
   "metadata": {},
   "outputs": [],
   "source": [
    "# Function to extract tickers along with timestamps\n",
    "def extract_tickers(row):\n",
    "    words = set(re.findall(TICKER_PATTERN, row.Body, re.IGNORECASE))  # Remove duplicates within each comment\n",
    "    return [(word.upper(), row.Timestamp) for word in words]\n",
    "\n",
    "def extract_tickers_uppercase(row):\n",
    "    words = set(re.findall(TICKER_PATTERN, row.Body))  # Remove duplicates within each comment\n",
    "    return [(word.upper(), row.Timestamp) for word in words]\n",
    "\n",
    "def validate_tickers(ticker_list):\n",
    "    \"\"\"Validate extracted tickers using Yahoo Finance\"\"\"\n",
    "    # all_tickers = set(si.tickers_dow() + si.tickers_sp500() + si.tickers_nasdaq() + si.tickers_other())\n",
    "    all_tickers = set(si.tickers_dow() + si.tickers_sp500() + si.tickers_nasdaq())\n",
    "    valid_tickers = set()\n",
    "    invalid_tickers = set()\n",
    "\n",
    "    for ticker in ticker_list:\n",
    "        if ticker in all_tickers:\n",
    "            valid_tickers.add(ticker)\n",
    "        else:\n",
    "            invalid_tickers.add(ticker)\n",
    "    \n",
    "    return valid_tickers, invalid_tickers"
   ]
  },
  {
   "cell_type": "code",
   "execution_count": null,
   "metadata": {},
   "outputs": [
    {
     "name": "stdout",
     "output_type": "stream",
     "text": [
      "📄 Spreadsheet 'pennystocks_subreddit_2025-02-20' already exists: https://docs.google.com/spreadsheets/d/1yfNpU59DYp2E9iN_3lPwIYpspF_-r9DOhFmHOem7Mhw\n"
     ]
    }
   ],
   "source": [
    "date = '2025-02-20'\n",
    "sheet_name = f'pennystocks_subreddit_{date}'\n",
    "spreadsheet_id = get_existing_spreadsheet(sheet_name, TRADING_FOLDER_ID, CREDS_PATH)\n",
    "gspread_client, _ = authenticate_google_services(CREDS_PATH)\n",
    "spreadsheet = gspread_client.open_by_key(spreadsheet_id)\n",
    "spreadsheet = spreadsheet.worksheet(date).get_all_values()\n",
    "\n",
    "df = pd.DataFrame(spreadsheet[1:], columns=spreadsheet[0])\n",
    "df[\"Timestamp\"] = pd.to_datetime(df[\"Timestamp\"])\n",
    "df.sort_values(by='Timestamp', inplace=True)\n",
    "\n",
    "comments = df[['Body', 'Timestamp']]\n",
    "\n",
    "tickers_with_time = comments.apply(extract_tickers, axis=1)\n",
    "tickers_with_time = [item for sublist in tickers_with_time for item in sublist]\n",
    "\n",
    "ticker_list = list(dict.fromkeys([ticker for ticker, _ in tickers_with_time]))\n",
    "valid_tickers, invalid_tickers = validate_tickers(ticker_list)\n",
    "\n",
    "time_buckets = bucket_by_time([(ticker, ts.tz_localize(ISRAEL_TZ)) for ticker, ts in tickers_with_time], ISRAEL_TZ, interval_minutes)\n",
    "\n",
    "# Keep only keys that are tuples of length 2 (date, bucket)\n",
    "valid_keys = [key for key in time_buckets.keys() if isinstance(key, tuple) and len(key) == 2]\n",
    "\n",
    "rows = []\n",
    "    \n",
    "# Count mentions in each time bucket\n",
    "for (date, bucket) in sorted(valid_keys):\n",
    "    \n",
    "    start_time = (datetime.strptime(date, \"%Y-%m-%d\").replace(tzinfo=ISRAEL_TZ) + timedelta(minutes=bucket)).strftime(\"%H:%M\")\n",
    "    end_time = (datetime.strptime(date, \"%Y-%m-%d\").replace(tzinfo=ISRAEL_TZ) + timedelta(minutes=bucket + interval_minutes)).strftime(\"%H:%M\")\n",
    "\n",
    "    ticker_counts = Counter(time_buckets[(date, bucket)])\n",
    "    filtered_counts = {ticker: count for ticker, count in ticker_counts.items() if ticker in valid_tickers}\n",
    "\n",
    "    for ticker, count in filtered_counts.items():\n",
    "        rows.append({\"date\": date, \"start_time\": start_time, \"end_time\": end_time, \"ticker\": ticker, \"mentions\": count})\n",
    "\n",
    "# Convert to DataFrame\n",
    "df_ticker_mentions = pd.DataFrame(rows, columns=[\"date\", \"start_time\", \"end_time\", \"ticker\", \"mentions\"])\n",
    "\n",
    "df_ticker_mentions[\"start_datetime\"] = pd.to_datetime(df_ticker_mentions[\"date\"] + \" \" + df_ticker_mentions[\"start_time\"])\n",
    "df_ticker_mentions[\"end_datetime\"] = pd.to_datetime(df_ticker_mentions[\"date\"] + \" \" + df_ticker_mentions[\"end_time\"])\n",
    "df_ticker_mentions.sort_values(by=['date', 'start_time', 'end_time', 'ticker'], inplace=True)\n",
    "df_ticker_mentions = df_ticker_mentions[df_ticker_mentions.date == date].reset_index(drop=True)\n",
    "\n",
    "df_ticker_mentions_daily = df_ticker_mentions.groupby('ticker')['mentions'].sum().reset_index()\n",
    "df_ticker_mentions_daily.sort_values(by='mentions', ascending=False, inplace=True)\n",
    "\n",
    "upper_ticker = comments.apply(extract_tickers_uppercase, axis=1)\n",
    "upper_tickers_with_time = [item for sublist in upper_ticker for item in sublist]\n",
    "upper_ticker_list = list(dict.fromkeys([ticker for ticker, _ in upper_tickers_with_time]))\n",
    "upper_valid_tickers, _ = validate_tickers(upper_ticker_list)\n",
    "\n",
    "upper_df_ticker_mentions_daily = df_ticker_mentions_daily[df_ticker_mentions_daily.ticker.isin(upper_valid_tickers)]"
   ]
  },
  {
   "cell_type": "code",
   "execution_count": 102,
   "metadata": {},
   "outputs": [
    {
     "data": {
      "text/html": [
       "<div>\n",
       "<style scoped>\n",
       "    .dataframe tbody tr th:only-of-type {\n",
       "        vertical-align: middle;\n",
       "    }\n",
       "\n",
       "    .dataframe tbody tr th {\n",
       "        vertical-align: top;\n",
       "    }\n",
       "\n",
       "    .dataframe thead th {\n",
       "        text-align: right;\n",
       "    }\n",
       "</style>\n",
       "<table border=\"1\" class=\"dataframe\">\n",
       "  <thead>\n",
       "    <tr style=\"text-align: right;\">\n",
       "      <th></th>\n",
       "      <th>ticker</th>\n",
       "      <th>mentions</th>\n",
       "    </tr>\n",
       "  </thead>\n",
       "  <tbody>\n",
       "    <tr>\n",
       "      <th>176</th>\n",
       "      <td>ON</td>\n",
       "      <td>459</td>\n",
       "    </tr>\n",
       "    <tr>\n",
       "      <th>102</th>\n",
       "      <td>GOOD</td>\n",
       "      <td>232</td>\n",
       "    </tr>\n",
       "    <tr>\n",
       "      <th>3</th>\n",
       "      <td>ADTX</td>\n",
       "      <td>214</td>\n",
       "    </tr>\n",
       "    <tr>\n",
       "      <th>35</th>\n",
       "      <td>CAN</td>\n",
       "      <td>193</td>\n",
       "    </tr>\n",
       "    <tr>\n",
       "      <th>6</th>\n",
       "      <td>ANY</td>\n",
       "      <td>183</td>\n",
       "    </tr>\n",
       "    <tr>\n",
       "      <th>160</th>\n",
       "      <td>ME</td>\n",
       "      <td>181</td>\n",
       "    </tr>\n",
       "    <tr>\n",
       "      <th>17</th>\n",
       "      <td>BACK</td>\n",
       "      <td>145</td>\n",
       "    </tr>\n",
       "    <tr>\n",
       "      <th>230</th>\n",
       "      <td>SOBR</td>\n",
       "      <td>106</td>\n",
       "    </tr>\n",
       "    <tr>\n",
       "      <th>237</th>\n",
       "      <td>STSS</td>\n",
       "      <td>99</td>\n",
       "    </tr>\n",
       "    <tr>\n",
       "      <th>233</th>\n",
       "      <td>SPGC</td>\n",
       "      <td>93</td>\n",
       "    </tr>\n",
       "    <tr>\n",
       "      <th>167</th>\n",
       "      <td>MVIS</td>\n",
       "      <td>92</td>\n",
       "    </tr>\n",
       "    <tr>\n",
       "      <th>112</th>\n",
       "      <td>HMR</td>\n",
       "      <td>81</td>\n",
       "    </tr>\n",
       "    <tr>\n",
       "      <th>214</th>\n",
       "      <td>RUN</td>\n",
       "      <td>78</td>\n",
       "    </tr>\n",
       "    <tr>\n",
       "      <th>235</th>\n",
       "      <td>STAI</td>\n",
       "      <td>58</td>\n",
       "    </tr>\n",
       "    <tr>\n",
       "      <th>67</th>\n",
       "      <td>DGLY</td>\n",
       "      <td>55</td>\n",
       "    </tr>\n",
       "    <tr>\n",
       "      <th>14</th>\n",
       "      <td>AUUD</td>\n",
       "      <td>53</td>\n",
       "    </tr>\n",
       "    <tr>\n",
       "      <th>252</th>\n",
       "      <td>TRNR</td>\n",
       "      <td>52</td>\n",
       "    </tr>\n",
       "    <tr>\n",
       "      <th>146</th>\n",
       "      <td>LOT</td>\n",
       "      <td>45</td>\n",
       "    </tr>\n",
       "    <tr>\n",
       "      <th>10</th>\n",
       "      <td>APTO</td>\n",
       "      <td>44</td>\n",
       "    </tr>\n",
       "    <tr>\n",
       "      <th>85</th>\n",
       "      <td>FGEN</td>\n",
       "      <td>41</td>\n",
       "    </tr>\n",
       "    <tr>\n",
       "      <th>15</th>\n",
       "      <td>AXTI</td>\n",
       "      <td>35</td>\n",
       "    </tr>\n",
       "    <tr>\n",
       "      <th>49</th>\n",
       "      <td>CNSP</td>\n",
       "      <td>33</td>\n",
       "    </tr>\n",
       "    <tr>\n",
       "      <th>174</th>\n",
       "      <td>OCEA</td>\n",
       "      <td>33</td>\n",
       "    </tr>\n",
       "    <tr>\n",
       "      <th>216</th>\n",
       "      <td>RVSN</td>\n",
       "      <td>30</td>\n",
       "    </tr>\n",
       "    <tr>\n",
       "      <th>23</th>\n",
       "      <td>BHAT</td>\n",
       "      <td>27</td>\n",
       "    </tr>\n",
       "    <tr>\n",
       "      <th>168</th>\n",
       "      <td>MVST</td>\n",
       "      <td>23</td>\n",
       "    </tr>\n",
       "    <tr>\n",
       "      <th>195</th>\n",
       "      <td>PRPH</td>\n",
       "      <td>23</td>\n",
       "    </tr>\n",
       "    <tr>\n",
       "      <th>164</th>\n",
       "      <td>MNDR</td>\n",
       "      <td>18</td>\n",
       "    </tr>\n",
       "    <tr>\n",
       "      <th>113</th>\n",
       "      <td>HOLO</td>\n",
       "      <td>15</td>\n",
       "    </tr>\n",
       "    <tr>\n",
       "      <th>275</th>\n",
       "      <td>WOK</td>\n",
       "      <td>14</td>\n",
       "    </tr>\n",
       "    <tr>\n",
       "      <th>100</th>\n",
       "      <td>GNPX</td>\n",
       "      <td>13</td>\n",
       "    </tr>\n",
       "    <tr>\n",
       "      <th>63</th>\n",
       "      <td>CYN</td>\n",
       "      <td>12</td>\n",
       "    </tr>\n",
       "    <tr>\n",
       "      <th>141</th>\n",
       "      <td>LICN</td>\n",
       "      <td>12</td>\n",
       "    </tr>\n",
       "    <tr>\n",
       "      <th>137</th>\n",
       "      <td>LAES</td>\n",
       "      <td>10</td>\n",
       "    </tr>\n",
       "    <tr>\n",
       "      <th>159</th>\n",
       "      <td>MCVT</td>\n",
       "      <td>10</td>\n",
       "    </tr>\n",
       "    <tr>\n",
       "      <th>86</th>\n",
       "      <td>FINE</td>\n",
       "      <td>10</td>\n",
       "    </tr>\n",
       "    <tr>\n",
       "      <th>55</th>\n",
       "      <td>CREG</td>\n",
       "      <td>9</td>\n",
       "    </tr>\n",
       "    <tr>\n",
       "      <th>257</th>\n",
       "      <td>TWG</td>\n",
       "      <td>9</td>\n",
       "    </tr>\n",
       "    <tr>\n",
       "      <th>122</th>\n",
       "      <td>ICON</td>\n",
       "      <td>8</td>\n",
       "    </tr>\n",
       "    <tr>\n",
       "      <th>40</th>\n",
       "      <td>CDT</td>\n",
       "      <td>7</td>\n",
       "    </tr>\n",
       "    <tr>\n",
       "      <th>196</th>\n",
       "      <td>PT</td>\n",
       "      <td>7</td>\n",
       "    </tr>\n",
       "    <tr>\n",
       "      <th>82</th>\n",
       "      <td>FAST</td>\n",
       "      <td>7</td>\n",
       "    </tr>\n",
       "    <tr>\n",
       "      <th>178</th>\n",
       "      <td>OP</td>\n",
       "      <td>7</td>\n",
       "    </tr>\n",
       "    <tr>\n",
       "      <th>68</th>\n",
       "      <td>DRUG</td>\n",
       "      <td>6</td>\n",
       "    </tr>\n",
       "    <tr>\n",
       "      <th>173</th>\n",
       "      <td>NIVF</td>\n",
       "      <td>6</td>\n",
       "    </tr>\n",
       "    <tr>\n",
       "      <th>180</th>\n",
       "      <td>OPTX</td>\n",
       "      <td>6</td>\n",
       "    </tr>\n",
       "    <tr>\n",
       "      <th>70</th>\n",
       "      <td>EDIT</td>\n",
       "      <td>6</td>\n",
       "    </tr>\n",
       "    <tr>\n",
       "      <th>209</th>\n",
       "      <td>RKLB</td>\n",
       "      <td>6</td>\n",
       "    </tr>\n",
       "    <tr>\n",
       "      <th>282</th>\n",
       "      <td>ZCAR</td>\n",
       "      <td>5</td>\n",
       "    </tr>\n",
       "    <tr>\n",
       "      <th>2</th>\n",
       "      <td>ADIL</td>\n",
       "      <td>5</td>\n",
       "    </tr>\n",
       "  </tbody>\n",
       "</table>\n",
       "</div>"
      ],
      "text/plain": [
       "    ticker  mentions\n",
       "176     ON       459\n",
       "102   GOOD       232\n",
       "3     ADTX       214\n",
       "35     CAN       193\n",
       "6      ANY       183\n",
       "160     ME       181\n",
       "17    BACK       145\n",
       "230   SOBR       106\n",
       "237   STSS        99\n",
       "233   SPGC        93\n",
       "167   MVIS        92\n",
       "112    HMR        81\n",
       "214    RUN        78\n",
       "235   STAI        58\n",
       "67    DGLY        55\n",
       "14    AUUD        53\n",
       "252   TRNR        52\n",
       "146    LOT        45\n",
       "10    APTO        44\n",
       "85    FGEN        41\n",
       "15    AXTI        35\n",
       "49    CNSP        33\n",
       "174   OCEA        33\n",
       "216   RVSN        30\n",
       "23    BHAT        27\n",
       "168   MVST        23\n",
       "195   PRPH        23\n",
       "164   MNDR        18\n",
       "113   HOLO        15\n",
       "275    WOK        14\n",
       "100   GNPX        13\n",
       "63     CYN        12\n",
       "141   LICN        12\n",
       "137   LAES        10\n",
       "159   MCVT        10\n",
       "86    FINE        10\n",
       "55    CREG         9\n",
       "257    TWG         9\n",
       "122   ICON         8\n",
       "40     CDT         7\n",
       "196     PT         7\n",
       "82    FAST         7\n",
       "178     OP         7\n",
       "68    DRUG         6\n",
       "173   NIVF         6\n",
       "180   OPTX         6\n",
       "70    EDIT         6\n",
       "209   RKLB         6\n",
       "282   ZCAR         5\n",
       "2     ADIL         5"
      ]
     },
     "execution_count": 102,
     "metadata": {},
     "output_type": "execute_result"
    }
   ],
   "source": [
    "upper_df_ticker_mentions_daily.iloc[:50]"
   ]
  },
  {
   "cell_type": "code",
   "execution_count": 104,
   "metadata": {},
   "outputs": [
    {
     "data": {
      "application/vnd.plotly.v1+json": {
       "config": {
        "plotlyServerURL": "https://plot.ly"
       },
       "data": [
        {
         "line": {
          "color": "blue"
         },
         "marker": {
          "size": 6
         },
         "mode": "lines+markers",
         "name": "Close",
         "type": "scatter",
         "x": [
          "2025-02-20T00:10:00.000000000",
          "2025-02-20T00:35:00.000000000",
          "2025-02-20T00:40:00.000000000",
          "2025-02-20T01:10:00.000000000",
          "2025-02-20T03:05:00.000000000",
          "2025-02-20T03:55:00.000000000",
          "2025-02-20T06:10:00.000000000",
          "2025-02-20T06:15:00.000000000",
          "2025-02-20T07:15:00.000000000",
          "2025-02-20T08:25:00.000000000",
          "2025-02-20T08:30:00.000000000",
          "2025-02-20T08:50:00.000000000",
          "2025-02-20T09:05:00.000000000",
          "2025-02-20T09:35:00.000000000",
          "2025-02-20T09:40:00.000000000",
          "2025-02-20T10:10:00.000000000",
          "2025-02-20T10:20:00.000000000",
          "2025-02-20T10:35:00.000000000",
          "2025-02-20T10:40:00.000000000",
          "2025-02-20T11:15:00.000000000",
          "2025-02-20T11:55:00.000000000",
          "2025-02-20T12:05:00.000000000",
          "2025-02-20T12:10:00.000000000",
          "2025-02-20T12:15:00.000000000",
          "2025-02-20T13:00:00.000000000",
          "2025-02-20T14:05:00.000000000",
          "2025-02-20T14:35:00.000000000",
          "2025-02-20T14:45:00.000000000",
          "2025-02-20T14:55:00.000000000",
          "2025-02-20T15:05:00.000000000",
          "2025-02-20T15:25:00.000000000",
          "2025-02-20T15:30:00.000000000",
          "2025-02-20T15:35:00.000000000",
          "2025-02-20T15:40:00.000000000",
          "2025-02-20T15:45:00.000000000",
          "2025-02-20T15:50:00.000000000",
          "2025-02-20T15:55:00.000000000",
          "2025-02-20T16:15:00.000000000",
          "2025-02-20T16:30:00.000000000",
          "2025-02-20T16:35:00.000000000",
          "2025-02-20T16:40:00.000000000",
          "2025-02-20T16:45:00.000000000",
          "2025-02-20T16:50:00.000000000",
          "2025-02-20T16:55:00.000000000",
          "2025-02-20T17:00:00.000000000",
          "2025-02-20T17:05:00.000000000",
          "2025-02-20T17:10:00.000000000",
          "2025-02-20T17:15:00.000000000",
          "2025-02-20T17:20:00.000000000",
          "2025-02-20T17:25:00.000000000",
          "2025-02-20T17:30:00.000000000",
          "2025-02-20T17:35:00.000000000",
          "2025-02-20T17:40:00.000000000",
          "2025-02-20T17:45:00.000000000",
          "2025-02-20T17:50:00.000000000",
          "2025-02-20T17:55:00.000000000",
          "2025-02-20T18:00:00.000000000",
          "2025-02-20T18:05:00.000000000",
          "2025-02-20T18:10:00.000000000",
          "2025-02-20T18:15:00.000000000",
          "2025-02-20T18:20:00.000000000",
          "2025-02-20T18:25:00.000000000",
          "2025-02-20T18:30:00.000000000",
          "2025-02-20T18:35:00.000000000",
          "2025-02-20T18:40:00.000000000",
          "2025-02-20T18:45:00.000000000",
          "2025-02-20T18:50:00.000000000",
          "2025-02-20T18:55:00.000000000",
          "2025-02-20T19:00:00.000000000",
          "2025-02-20T19:05:00.000000000",
          "2025-02-20T19:10:00.000000000",
          "2025-02-20T19:15:00.000000000",
          "2025-02-20T19:20:00.000000000",
          "2025-02-20T19:25:00.000000000",
          "2025-02-20T19:30:00.000000000",
          "2025-02-20T19:35:00.000000000",
          "2025-02-20T19:40:00.000000000",
          "2025-02-20T19:45:00.000000000",
          "2025-02-20T19:50:00.000000000",
          "2025-02-20T19:55:00.000000000",
          "2025-02-20T20:00:00.000000000",
          "2025-02-20T20:05:00.000000000",
          "2025-02-20T20:10:00.000000000",
          "2025-02-20T20:15:00.000000000",
          "2025-02-20T20:20:00.000000000",
          "2025-02-20T20:25:00.000000000",
          "2025-02-20T20:30:00.000000000",
          "2025-02-20T20:35:00.000000000",
          "2025-02-20T20:40:00.000000000",
          "2025-02-20T20:45:00.000000000",
          "2025-02-20T20:50:00.000000000",
          "2025-02-20T20:55:00.000000000",
          "2025-02-20T21:00:00.000000000",
          "2025-02-20T21:05:00.000000000",
          "2025-02-20T21:10:00.000000000",
          "2025-02-20T21:15:00.000000000",
          "2025-02-20T21:20:00.000000000",
          "2025-02-20T21:25:00.000000000",
          "2025-02-20T21:30:00.000000000",
          "2025-02-20T21:35:00.000000000",
          "2025-02-20T21:40:00.000000000",
          "2025-02-20T21:45:00.000000000",
          "2025-02-20T21:50:00.000000000",
          "2025-02-20T21:55:00.000000000",
          "2025-02-20T22:00:00.000000000",
          "2025-02-20T22:05:00.000000000",
          "2025-02-20T22:10:00.000000000",
          "2025-02-20T22:15:00.000000000",
          "2025-02-20T22:20:00.000000000",
          "2025-02-20T22:25:00.000000000",
          "2025-02-20T22:30:00.000000000",
          "2025-02-20T22:35:00.000000000",
          "2025-02-20T22:40:00.000000000",
          "2025-02-20T22:45:00.000000000",
          "2025-02-20T22:50:00.000000000",
          "2025-02-20T22:55:00.000000000",
          "2025-02-20T23:00:00.000000000"
         ],
         "xaxis": "x",
         "y": {
          "bdata": "AAAAAAAA+H8AAAAAAAD4fwAAAAAAAPh/AAAAAAAA+H8AAAAAAAD4fwAAAAAAAPh/AAAAAAAA+H8AAAAAAAD4fwAAAAAAAPh/AAAAAAAA+H8AAAAAAAD4fwAAAAAAAPh/AAAAAAAA+H8AAAAAAAD4fwAAAAAAAPh/AAAAAAAA+H8AAAAAAAD4fwAAAAAAAPh/AAAAAAAA+H8AAAAAAAD4fwAAAAAAAPh/AAAAAAAA+H8AAAAAAAD4fwAAAAAAAPh/AAAAAAAA+H8AAAAAAAD4fwAAAAAAAPh/AAAAAAAA+H8AAAAAAAD4fwAAAAAAAPh/AAAAAAAA+H8AAAAAAAD4fwAAAAAAAPh/AAAAAAAA+H8AAAAAAAD4fwAAAAAAAPh/AAAAAAAA+H8AAAAAAAD4fwAAAKBH4fA/AAAAoEfh8D8AAAAgHcnwPwAAAMD+svA/AAAAQGIQ8T8AAACgmZnxPwAAAMAMcfE/AAAAQGIQ8T8AAADAMJnxPwAAAMAehfE/AAAAQOF68j8AAABA4XryPwAAAGAQWPI/AAAAoHA98j8AAACA/WXyPwAAAOB6FPI/AAAA4FgX8j8AAACAKO3xPwAAAIBRSfE/AAAAYI/C8T8AAACAFK7xPwAAAECLbPE/AAAAIIXr8T8AAABgj8LxPwAAAOB6FPI/AAAAoJmZ8T8AAADAMJnxPwAAAAAAAPI/AAAAgP1l8j8AAABgZmbyPwAAAEDhevI/AAAAYGZm8j8AAAAgSnvyPwAAAGCPwvE/AAAAoJmZ8T8AAABACtfxPwAAAED4wvE/AAAAYI/C8T8AAADgtYTxPwAAAMAehfE/AAAAoJmZ8T8AAACgq63xPwAAAEAK1/E/AAAAABIU8j8AAABACtfxPwAAAGB2T/E/AAAA4KNw8T8AAADAHoXxPwAAAKCZmfE/AAAAgMDK8T8AAABgn6vxPwAAAODHmPE/AAAA4KNw8T8AAADAHoXxPwAAAKDGS/E/AAAAwB6F8T8AAAAgOpLxPwAAAEAzM/E/AAAAANej8D8AAADgUbjwPwAAAOBRuPA/AAAA4FG48D8AAAAA16PwPwAAAABkzPA/AAAA4FG48D8AAABA4XrwPwAAAGAyVfA/AAAAYDSA8D8AAAAgXI/wPwAAAOAbfPA/AAAAANej8D8AAABA4XrwPwAAAOCDnvA/AAAAoMt/8D8AAAAgXI/wPwAAAOA/pPA/AAAAwECC8D8AAABA4XrwPwAAAAAAAPh/",
          "dtype": "f8"
         },
         "yaxis": "y"
        },
        {
         "line": {
          "color": "red"
         },
         "marker": {
          "size": 6
         },
         "mode": "lines+markers",
         "name": "Mentions",
         "type": "scatter",
         "x": [
          "2025-02-20T00:10:00.000000000",
          "2025-02-20T00:35:00.000000000",
          "2025-02-20T00:40:00.000000000",
          "2025-02-20T01:10:00.000000000",
          "2025-02-20T03:05:00.000000000",
          "2025-02-20T03:55:00.000000000",
          "2025-02-20T06:10:00.000000000",
          "2025-02-20T06:15:00.000000000",
          "2025-02-20T07:15:00.000000000",
          "2025-02-20T08:25:00.000000000",
          "2025-02-20T08:30:00.000000000",
          "2025-02-20T08:50:00.000000000",
          "2025-02-20T09:05:00.000000000",
          "2025-02-20T09:35:00.000000000",
          "2025-02-20T09:40:00.000000000",
          "2025-02-20T10:10:00.000000000",
          "2025-02-20T10:20:00.000000000",
          "2025-02-20T10:35:00.000000000",
          "2025-02-20T10:40:00.000000000",
          "2025-02-20T11:15:00.000000000",
          "2025-02-20T11:55:00.000000000",
          "2025-02-20T12:05:00.000000000",
          "2025-02-20T12:10:00.000000000",
          "2025-02-20T12:15:00.000000000",
          "2025-02-20T13:00:00.000000000",
          "2025-02-20T14:05:00.000000000",
          "2025-02-20T14:35:00.000000000",
          "2025-02-20T14:45:00.000000000",
          "2025-02-20T14:55:00.000000000",
          "2025-02-20T15:05:00.000000000",
          "2025-02-20T15:25:00.000000000",
          "2025-02-20T15:30:00.000000000",
          "2025-02-20T15:35:00.000000000",
          "2025-02-20T15:40:00.000000000",
          "2025-02-20T15:45:00.000000000",
          "2025-02-20T15:50:00.000000000",
          "2025-02-20T15:55:00.000000000",
          "2025-02-20T16:15:00.000000000",
          "2025-02-20T16:30:00.000000000",
          "2025-02-20T16:35:00.000000000",
          "2025-02-20T16:40:00.000000000",
          "2025-02-20T16:45:00.000000000",
          "2025-02-20T16:50:00.000000000",
          "2025-02-20T16:55:00.000000000",
          "2025-02-20T17:00:00.000000000",
          "2025-02-20T17:05:00.000000000",
          "2025-02-20T17:10:00.000000000",
          "2025-02-20T17:15:00.000000000",
          "2025-02-20T17:20:00.000000000",
          "2025-02-20T17:25:00.000000000",
          "2025-02-20T17:30:00.000000000",
          "2025-02-20T17:35:00.000000000",
          "2025-02-20T17:40:00.000000000",
          "2025-02-20T17:45:00.000000000",
          "2025-02-20T17:50:00.000000000",
          "2025-02-20T17:55:00.000000000",
          "2025-02-20T18:00:00.000000000",
          "2025-02-20T18:05:00.000000000",
          "2025-02-20T18:10:00.000000000",
          "2025-02-20T18:15:00.000000000",
          "2025-02-20T18:20:00.000000000",
          "2025-02-20T18:25:00.000000000",
          "2025-02-20T18:30:00.000000000",
          "2025-02-20T18:35:00.000000000",
          "2025-02-20T18:40:00.000000000",
          "2025-02-20T18:45:00.000000000",
          "2025-02-20T18:50:00.000000000",
          "2025-02-20T18:55:00.000000000",
          "2025-02-20T19:00:00.000000000",
          "2025-02-20T19:05:00.000000000",
          "2025-02-20T19:10:00.000000000",
          "2025-02-20T19:15:00.000000000",
          "2025-02-20T19:20:00.000000000",
          "2025-02-20T19:25:00.000000000",
          "2025-02-20T19:30:00.000000000",
          "2025-02-20T19:35:00.000000000",
          "2025-02-20T19:40:00.000000000",
          "2025-02-20T19:45:00.000000000",
          "2025-02-20T19:50:00.000000000",
          "2025-02-20T19:55:00.000000000",
          "2025-02-20T20:00:00.000000000",
          "2025-02-20T20:05:00.000000000",
          "2025-02-20T20:10:00.000000000",
          "2025-02-20T20:15:00.000000000",
          "2025-02-20T20:20:00.000000000",
          "2025-02-20T20:25:00.000000000",
          "2025-02-20T20:30:00.000000000",
          "2025-02-20T20:35:00.000000000",
          "2025-02-20T20:40:00.000000000",
          "2025-02-20T20:45:00.000000000",
          "2025-02-20T20:50:00.000000000",
          "2025-02-20T20:55:00.000000000",
          "2025-02-20T21:00:00.000000000",
          "2025-02-20T21:05:00.000000000",
          "2025-02-20T21:10:00.000000000",
          "2025-02-20T21:15:00.000000000",
          "2025-02-20T21:20:00.000000000",
          "2025-02-20T21:25:00.000000000",
          "2025-02-20T21:30:00.000000000",
          "2025-02-20T21:35:00.000000000",
          "2025-02-20T21:40:00.000000000",
          "2025-02-20T21:45:00.000000000",
          "2025-02-20T21:50:00.000000000",
          "2025-02-20T21:55:00.000000000",
          "2025-02-20T22:00:00.000000000",
          "2025-02-20T22:05:00.000000000",
          "2025-02-20T22:10:00.000000000",
          "2025-02-20T22:15:00.000000000",
          "2025-02-20T22:20:00.000000000",
          "2025-02-20T22:25:00.000000000",
          "2025-02-20T22:30:00.000000000",
          "2025-02-20T22:35:00.000000000",
          "2025-02-20T22:40:00.000000000",
          "2025-02-20T22:45:00.000000000",
          "2025-02-20T22:50:00.000000000",
          "2025-02-20T22:55:00.000000000",
          "2025-02-20T23:00:00.000000000"
         ],
         "xaxis": "x2",
         "y": {
          "bdata": "AAAAAAAAAEAAAAAAAADwPwAAAAAAAPA/AAAAAAAAAEAAAAAAAADwPwAAAAAAAPA/AAAAAAAA8D8AAAAAAADwPwAAAAAAAPA/AAAAAAAA8D8AAAAAAAAAQAAAAAAAAPA/AAAAAAAA8D8AAAAAAADwPwAAAAAAAPA/AAAAAAAA8D8AAAAAAADwPwAAAAAAAPA/AAAAAAAA8D8AAAAAAADwPwAAAAAAAPA/AAAAAAAA8D8AAAAAAAAAQAAAAAAAAPA/AAAAAAAAAEAAAAAAAADwPwAAAAAAAPA/AAAAAAAAAEAAAAAAAADwPwAAAAAAAPA/AAAAAAAAEEAAAAAAAAAoQAAAAAAAACxAAAAAAAAAHEAAAAAAAAAAQAAAAAAAAAhAAAAAAAAA8D8AAAAAAADwPwAAAAAAAAAAAAAAAAAAAEAAAAAAAADwPwAAAAAAAABAAAAAAAAAAAAAAAAAAAAAQAAAAAAAAPA/AAAAAAAAAAAAAAAAAAAAAAAAAAAAAAAAAAAAAAAA8D8AAAAAAAAAAAAAAAAAAAAAAAAAAAAA8D8AAAAAAAAAAAAAAAAAAPA/AAAAAAAACEAAAAAAAAAAAAAAAAAAAAAAAAAAAAAAAAAAAAAAAAAAAAAAAAAAAPA/AAAAAAAAAAAAAAAAAADwPwAAAAAAAAAAAAAAAAAAAEAAAAAAAAAAAAAAAAAAAAAAAAAAAAAAAAAAAAAAAAAAAAAAAAAAAAAAAAAAAAAAAAAAAAAAAADwPwAAAAAAAPA/AAAAAAAAAAAAAAAAAADwPwAAAAAAAAAAAAAAAAAAAAAAAAAAAAAAAAAAAAAAAAAAAAAAAAAAAAAAAAAAAAAAAAAAAAAAAAAAAAAAAAAAAAAAAAAAAAAAAAAAAAAAAAAAAAAAAAAAAAAAAAAAAADwPwAAAAAAAAAAAAAAAAAAAAAAAAAAAAAAAAAAAAAAAAAAAAAAAAAAAAAAAAAAAAAAAAAAAAAAAAAAAAAAAAAAAAAAAAAAAAAAAAAAAAAAAAAAAAAAAAAAAAAAAAAAAAAAAAAAAAAAAAAAAAAAAAAAAAAAAAAAAAAAAAAAAAAAAAAAAAAAAAAAAAAAAAAAAAAAAAAAAAAAAAAAAAAAAAAAAAAAAAAAAAAAAAAAAAAAAPA/AAAAAAAAAAAAAAAAAAAAAAAAAAAAAPA/AAAAAAAA8D8AAAAAAAAAAAAAAAAAAAAAAAAAAAAAAAAAAAAAAAAAAAAAAAAAAPA/",
          "dtype": "f8"
         },
         "yaxis": "y2"
        }
       ],
       "layout": {
        "annotations": [
         {
          "font": {
           "size": 16
          },
          "showarrow": false,
          "text": "Close Price",
          "x": 0.5,
          "xanchor": "center",
          "xref": "paper",
          "y": 1,
          "yanchor": "bottom",
          "yref": "paper"
         },
         {
          "font": {
           "size": 16
          },
          "showarrow": false,
          "text": "Mentions",
          "x": 0.5,
          "xanchor": "center",
          "xref": "paper",
          "y": 0.4,
          "yanchor": "bottom",
          "yref": "paper"
         }
        ],
        "hovermode": "x unified",
        "showlegend": false,
        "template": {
         "data": {
          "bar": [
           {
            "error_x": {
             "color": "#2a3f5f"
            },
            "error_y": {
             "color": "#2a3f5f"
            },
            "marker": {
             "line": {
              "color": "#E5ECF6",
              "width": 0.5
             },
             "pattern": {
              "fillmode": "overlay",
              "size": 10,
              "solidity": 0.2
             }
            },
            "type": "bar"
           }
          ],
          "barpolar": [
           {
            "marker": {
             "line": {
              "color": "#E5ECF6",
              "width": 0.5
             },
             "pattern": {
              "fillmode": "overlay",
              "size": 10,
              "solidity": 0.2
             }
            },
            "type": "barpolar"
           }
          ],
          "carpet": [
           {
            "aaxis": {
             "endlinecolor": "#2a3f5f",
             "gridcolor": "white",
             "linecolor": "white",
             "minorgridcolor": "white",
             "startlinecolor": "#2a3f5f"
            },
            "baxis": {
             "endlinecolor": "#2a3f5f",
             "gridcolor": "white",
             "linecolor": "white",
             "minorgridcolor": "white",
             "startlinecolor": "#2a3f5f"
            },
            "type": "carpet"
           }
          ],
          "choropleth": [
           {
            "colorbar": {
             "outlinewidth": 0,
             "ticks": ""
            },
            "type": "choropleth"
           }
          ],
          "contour": [
           {
            "colorbar": {
             "outlinewidth": 0,
             "ticks": ""
            },
            "colorscale": [
             [
              0,
              "#0d0887"
             ],
             [
              0.1111111111111111,
              "#46039f"
             ],
             [
              0.2222222222222222,
              "#7201a8"
             ],
             [
              0.3333333333333333,
              "#9c179e"
             ],
             [
              0.4444444444444444,
              "#bd3786"
             ],
             [
              0.5555555555555556,
              "#d8576b"
             ],
             [
              0.6666666666666666,
              "#ed7953"
             ],
             [
              0.7777777777777778,
              "#fb9f3a"
             ],
             [
              0.8888888888888888,
              "#fdca26"
             ],
             [
              1,
              "#f0f921"
             ]
            ],
            "type": "contour"
           }
          ],
          "contourcarpet": [
           {
            "colorbar": {
             "outlinewidth": 0,
             "ticks": ""
            },
            "type": "contourcarpet"
           }
          ],
          "heatmap": [
           {
            "colorbar": {
             "outlinewidth": 0,
             "ticks": ""
            },
            "colorscale": [
             [
              0,
              "#0d0887"
             ],
             [
              0.1111111111111111,
              "#46039f"
             ],
             [
              0.2222222222222222,
              "#7201a8"
             ],
             [
              0.3333333333333333,
              "#9c179e"
             ],
             [
              0.4444444444444444,
              "#bd3786"
             ],
             [
              0.5555555555555556,
              "#d8576b"
             ],
             [
              0.6666666666666666,
              "#ed7953"
             ],
             [
              0.7777777777777778,
              "#fb9f3a"
             ],
             [
              0.8888888888888888,
              "#fdca26"
             ],
             [
              1,
              "#f0f921"
             ]
            ],
            "type": "heatmap"
           }
          ],
          "histogram": [
           {
            "marker": {
             "pattern": {
              "fillmode": "overlay",
              "size": 10,
              "solidity": 0.2
             }
            },
            "type": "histogram"
           }
          ],
          "histogram2d": [
           {
            "colorbar": {
             "outlinewidth": 0,
             "ticks": ""
            },
            "colorscale": [
             [
              0,
              "#0d0887"
             ],
             [
              0.1111111111111111,
              "#46039f"
             ],
             [
              0.2222222222222222,
              "#7201a8"
             ],
             [
              0.3333333333333333,
              "#9c179e"
             ],
             [
              0.4444444444444444,
              "#bd3786"
             ],
             [
              0.5555555555555556,
              "#d8576b"
             ],
             [
              0.6666666666666666,
              "#ed7953"
             ],
             [
              0.7777777777777778,
              "#fb9f3a"
             ],
             [
              0.8888888888888888,
              "#fdca26"
             ],
             [
              1,
              "#f0f921"
             ]
            ],
            "type": "histogram2d"
           }
          ],
          "histogram2dcontour": [
           {
            "colorbar": {
             "outlinewidth": 0,
             "ticks": ""
            },
            "colorscale": [
             [
              0,
              "#0d0887"
             ],
             [
              0.1111111111111111,
              "#46039f"
             ],
             [
              0.2222222222222222,
              "#7201a8"
             ],
             [
              0.3333333333333333,
              "#9c179e"
             ],
             [
              0.4444444444444444,
              "#bd3786"
             ],
             [
              0.5555555555555556,
              "#d8576b"
             ],
             [
              0.6666666666666666,
              "#ed7953"
             ],
             [
              0.7777777777777778,
              "#fb9f3a"
             ],
             [
              0.8888888888888888,
              "#fdca26"
             ],
             [
              1,
              "#f0f921"
             ]
            ],
            "type": "histogram2dcontour"
           }
          ],
          "mesh3d": [
           {
            "colorbar": {
             "outlinewidth": 0,
             "ticks": ""
            },
            "type": "mesh3d"
           }
          ],
          "parcoords": [
           {
            "line": {
             "colorbar": {
              "outlinewidth": 0,
              "ticks": ""
             }
            },
            "type": "parcoords"
           }
          ],
          "pie": [
           {
            "automargin": true,
            "type": "pie"
           }
          ],
          "scatter": [
           {
            "fillpattern": {
             "fillmode": "overlay",
             "size": 10,
             "solidity": 0.2
            },
            "type": "scatter"
           }
          ],
          "scatter3d": [
           {
            "line": {
             "colorbar": {
              "outlinewidth": 0,
              "ticks": ""
             }
            },
            "marker": {
             "colorbar": {
              "outlinewidth": 0,
              "ticks": ""
             }
            },
            "type": "scatter3d"
           }
          ],
          "scattercarpet": [
           {
            "marker": {
             "colorbar": {
              "outlinewidth": 0,
              "ticks": ""
             }
            },
            "type": "scattercarpet"
           }
          ],
          "scattergeo": [
           {
            "marker": {
             "colorbar": {
              "outlinewidth": 0,
              "ticks": ""
             }
            },
            "type": "scattergeo"
           }
          ],
          "scattergl": [
           {
            "marker": {
             "colorbar": {
              "outlinewidth": 0,
              "ticks": ""
             }
            },
            "type": "scattergl"
           }
          ],
          "scattermap": [
           {
            "marker": {
             "colorbar": {
              "outlinewidth": 0,
              "ticks": ""
             }
            },
            "type": "scattermap"
           }
          ],
          "scattermapbox": [
           {
            "marker": {
             "colorbar": {
              "outlinewidth": 0,
              "ticks": ""
             }
            },
            "type": "scattermapbox"
           }
          ],
          "scatterpolar": [
           {
            "marker": {
             "colorbar": {
              "outlinewidth": 0,
              "ticks": ""
             }
            },
            "type": "scatterpolar"
           }
          ],
          "scatterpolargl": [
           {
            "marker": {
             "colorbar": {
              "outlinewidth": 0,
              "ticks": ""
             }
            },
            "type": "scatterpolargl"
           }
          ],
          "scatterternary": [
           {
            "marker": {
             "colorbar": {
              "outlinewidth": 0,
              "ticks": ""
             }
            },
            "type": "scatterternary"
           }
          ],
          "surface": [
           {
            "colorbar": {
             "outlinewidth": 0,
             "ticks": ""
            },
            "colorscale": [
             [
              0,
              "#0d0887"
             ],
             [
              0.1111111111111111,
              "#46039f"
             ],
             [
              0.2222222222222222,
              "#7201a8"
             ],
             [
              0.3333333333333333,
              "#9c179e"
             ],
             [
              0.4444444444444444,
              "#bd3786"
             ],
             [
              0.5555555555555556,
              "#d8576b"
             ],
             [
              0.6666666666666666,
              "#ed7953"
             ],
             [
              0.7777777777777778,
              "#fb9f3a"
             ],
             [
              0.8888888888888888,
              "#fdca26"
             ],
             [
              1,
              "#f0f921"
             ]
            ],
            "type": "surface"
           }
          ],
          "table": [
           {
            "cells": {
             "fill": {
              "color": "#EBF0F8"
             },
             "line": {
              "color": "white"
             }
            },
            "header": {
             "fill": {
              "color": "#C8D4E3"
             },
             "line": {
              "color": "white"
             }
            },
            "type": "table"
           }
          ]
         },
         "layout": {
          "annotationdefaults": {
           "arrowcolor": "#2a3f5f",
           "arrowhead": 0,
           "arrowwidth": 1
          },
          "autotypenumbers": "strict",
          "coloraxis": {
           "colorbar": {
            "outlinewidth": 0,
            "ticks": ""
           }
          },
          "colorscale": {
           "diverging": [
            [
             0,
             "#8e0152"
            ],
            [
             0.1,
             "#c51b7d"
            ],
            [
             0.2,
             "#de77ae"
            ],
            [
             0.3,
             "#f1b6da"
            ],
            [
             0.4,
             "#fde0ef"
            ],
            [
             0.5,
             "#f7f7f7"
            ],
            [
             0.6,
             "#e6f5d0"
            ],
            [
             0.7,
             "#b8e186"
            ],
            [
             0.8,
             "#7fbc41"
            ],
            [
             0.9,
             "#4d9221"
            ],
            [
             1,
             "#276419"
            ]
           ],
           "sequential": [
            [
             0,
             "#0d0887"
            ],
            [
             0.1111111111111111,
             "#46039f"
            ],
            [
             0.2222222222222222,
             "#7201a8"
            ],
            [
             0.3333333333333333,
             "#9c179e"
            ],
            [
             0.4444444444444444,
             "#bd3786"
            ],
            [
             0.5555555555555556,
             "#d8576b"
            ],
            [
             0.6666666666666666,
             "#ed7953"
            ],
            [
             0.7777777777777778,
             "#fb9f3a"
            ],
            [
             0.8888888888888888,
             "#fdca26"
            ],
            [
             1,
             "#f0f921"
            ]
           ],
           "sequentialminus": [
            [
             0,
             "#0d0887"
            ],
            [
             0.1111111111111111,
             "#46039f"
            ],
            [
             0.2222222222222222,
             "#7201a8"
            ],
            [
             0.3333333333333333,
             "#9c179e"
            ],
            [
             0.4444444444444444,
             "#bd3786"
            ],
            [
             0.5555555555555556,
             "#d8576b"
            ],
            [
             0.6666666666666666,
             "#ed7953"
            ],
            [
             0.7777777777777778,
             "#fb9f3a"
            ],
            [
             0.8888888888888888,
             "#fdca26"
            ],
            [
             1,
             "#f0f921"
            ]
           ]
          },
          "colorway": [
           "#636efa",
           "#EF553B",
           "#00cc96",
           "#ab63fa",
           "#FFA15A",
           "#19d3f3",
           "#FF6692",
           "#B6E880",
           "#FF97FF",
           "#FECB52"
          ],
          "font": {
           "color": "#2a3f5f"
          },
          "geo": {
           "bgcolor": "white",
           "lakecolor": "white",
           "landcolor": "#E5ECF6",
           "showlakes": true,
           "showland": true,
           "subunitcolor": "white"
          },
          "hoverlabel": {
           "align": "left"
          },
          "hovermode": "closest",
          "mapbox": {
           "style": "light"
          },
          "paper_bgcolor": "white",
          "plot_bgcolor": "#E5ECF6",
          "polar": {
           "angularaxis": {
            "gridcolor": "white",
            "linecolor": "white",
            "ticks": ""
           },
           "bgcolor": "#E5ECF6",
           "radialaxis": {
            "gridcolor": "white",
            "linecolor": "white",
            "ticks": ""
           }
          },
          "scene": {
           "xaxis": {
            "backgroundcolor": "#E5ECF6",
            "gridcolor": "white",
            "gridwidth": 2,
            "linecolor": "white",
            "showbackground": true,
            "ticks": "",
            "zerolinecolor": "white"
           },
           "yaxis": {
            "backgroundcolor": "#E5ECF6",
            "gridcolor": "white",
            "gridwidth": 2,
            "linecolor": "white",
            "showbackground": true,
            "ticks": "",
            "zerolinecolor": "white"
           },
           "zaxis": {
            "backgroundcolor": "#E5ECF6",
            "gridcolor": "white",
            "gridwidth": 2,
            "linecolor": "white",
            "showbackground": true,
            "ticks": "",
            "zerolinecolor": "white"
           }
          },
          "shapedefaults": {
           "line": {
            "color": "#2a3f5f"
           }
          },
          "ternary": {
           "aaxis": {
            "gridcolor": "white",
            "linecolor": "white",
            "ticks": ""
           },
           "baxis": {
            "gridcolor": "white",
            "linecolor": "white",
            "ticks": ""
           },
           "bgcolor": "#E5ECF6",
           "caxis": {
            "gridcolor": "white",
            "linecolor": "white",
            "ticks": ""
           }
          },
          "title": {
           "x": 0.05
          },
          "xaxis": {
           "automargin": true,
           "gridcolor": "white",
           "linecolor": "white",
           "ticks": "",
           "title": {
            "standoff": 15
           },
           "zerolinecolor": "white",
           "zerolinewidth": 2
          },
          "yaxis": {
           "automargin": true,
           "gridcolor": "white",
           "linecolor": "white",
           "ticks": "",
           "title": {
            "standoff": 15
           },
           "zerolinecolor": "white",
           "zerolinewidth": 2
          }
         }
        },
        "title": {
         "text": "Close Price and Mentions Over Time"
        },
        "xaxis": {
         "anchor": "y",
         "domain": [
          0,
          1
         ],
         "matches": "x2",
         "showticklabels": false
        },
        "xaxis2": {
         "anchor": "y2",
         "domain": [
          0,
          1
         ],
         "title": {
          "text": "Datetime"
         }
        },
        "yaxis": {
         "anchor": "x",
         "domain": [
          0.6000000000000001,
          1
         ],
         "title": {
          "text": "Close"
         }
        },
        "yaxis2": {
         "anchor": "x2",
         "domain": [
          0,
          0.4
         ],
         "title": {
          "text": "Mentions"
         }
        }
       }
      }
     },
     "metadata": {},
     "output_type": "display_data"
    }
   ],
   "source": [
    "ticker = 'SOBR'\n",
    "ticker_df = df_ticker_mentions[df_ticker_mentions.ticker == ticker][['end_datetime', 'mentions']]\n",
    "ticker_df.rename(columns={'end_datetime': 'Datetime'}, inplace=True)\n",
    "\n",
    "stock = yf.Ticker(ticker)\n",
    "stock_df = stock.history(start=date, end=(pd.to_datetime(date) + timedelta(days=1)).strftime('%Y-%m-%d'), interval=\"5m\")\n",
    "stock_df.reset_index(inplace=True)\n",
    "israel_tz = pytz.timezone('Asia/Jerusalem')\n",
    "stock_df['Datetime'] = stock_df['Datetime'].dt.tz_convert(israel_tz).dt.tz_localize(None)\n",
    "\n",
    "stock_df = stock_df.merge(ticker_df, on='Datetime', how='outer')\n",
    "stock_df[\"mentions\"] = stock_df[\"mentions\"].fillna(0)\n",
    "stock_df = stock_df[(stock_df[\"Datetime\"].dt.strftime('%Y-%m-%d') <= date)]\n",
    "\n",
    "# Create subplots with shared x-axis\n",
    "fig = make_subplots(rows=2, cols=1, shared_xaxes=True, \n",
    "                    subplot_titles=('Close Price', 'Mentions'),\n",
    "                    vertical_spacing=0.2)\n",
    "\n",
    "# Close price subplot\n",
    "fig.add_trace(go.Scatter(\n",
    "    x=stock_df['Datetime'],\n",
    "    y=stock_df['Close'],\n",
    "    mode='lines+markers',\n",
    "    name='Close',\n",
    "    line=dict(color='blue'),\n",
    "    marker=dict(size=6)\n",
    "), row=1, col=1)\n",
    "\n",
    "# Mentions subplot\n",
    "fig.add_trace(go.Scatter(\n",
    "    x=stock_df['Datetime'],\n",
    "    y=stock_df['mentions'],\n",
    "    mode='lines+markers',\n",
    "    name='Mentions',\n",
    "    line=dict(color='red'),\n",
    "    marker=dict(size=6)\n",
    "), row=2, col=1)\n",
    "\n",
    "# Update layout\n",
    "fig.update_layout(\n",
    "    title='Close Price and Mentions Over Time',\n",
    "    xaxis2_title='Datetime',\n",
    "    yaxis_title='Close',\n",
    "    yaxis2_title='Mentions',\n",
    "    showlegend=False,\n",
    "    hovermode='x unified'\n",
    ")\n",
    "\n",
    "# Display the plot\n",
    "fig.show()"
   ]
  },
  {
   "cell_type": "code",
   "execution_count": 105,
   "metadata": {},
   "outputs": [
    {
     "data": {
      "text/html": [
       "<div>\n",
       "<style scoped>\n",
       "    .dataframe tbody tr th:only-of-type {\n",
       "        vertical-align: middle;\n",
       "    }\n",
       "\n",
       "    .dataframe tbody tr th {\n",
       "        vertical-align: top;\n",
       "    }\n",
       "\n",
       "    .dataframe thead th {\n",
       "        text-align: right;\n",
       "    }\n",
       "</style>\n",
       "<table border=\"1\" class=\"dataframe\">\n",
       "  <thead>\n",
       "    <tr style=\"text-align: right;\">\n",
       "      <th></th>\n",
       "      <th>Datetime</th>\n",
       "      <th>Open</th>\n",
       "      <th>High</th>\n",
       "      <th>Low</th>\n",
       "      <th>Close</th>\n",
       "      <th>Volume</th>\n",
       "      <th>Dividends</th>\n",
       "      <th>Stock Splits</th>\n",
       "      <th>mentions</th>\n",
       "    </tr>\n",
       "  </thead>\n",
       "  <tbody>\n",
       "    <tr>\n",
       "      <th>0</th>\n",
       "      <td>2025-02-20 00:10:00</td>\n",
       "      <td>NaN</td>\n",
       "      <td>NaN</td>\n",
       "      <td>NaN</td>\n",
       "      <td>NaN</td>\n",
       "      <td>NaN</td>\n",
       "      <td>NaN</td>\n",
       "      <td>NaN</td>\n",
       "      <td>2.0</td>\n",
       "    </tr>\n",
       "    <tr>\n",
       "      <th>1</th>\n",
       "      <td>2025-02-20 00:35:00</td>\n",
       "      <td>NaN</td>\n",
       "      <td>NaN</td>\n",
       "      <td>NaN</td>\n",
       "      <td>NaN</td>\n",
       "      <td>NaN</td>\n",
       "      <td>NaN</td>\n",
       "      <td>NaN</td>\n",
       "      <td>1.0</td>\n",
       "    </tr>\n",
       "    <tr>\n",
       "      <th>2</th>\n",
       "      <td>2025-02-20 00:40:00</td>\n",
       "      <td>NaN</td>\n",
       "      <td>NaN</td>\n",
       "      <td>NaN</td>\n",
       "      <td>NaN</td>\n",
       "      <td>NaN</td>\n",
       "      <td>NaN</td>\n",
       "      <td>NaN</td>\n",
       "      <td>1.0</td>\n",
       "    </tr>\n",
       "    <tr>\n",
       "      <th>3</th>\n",
       "      <td>2025-02-20 01:10:00</td>\n",
       "      <td>NaN</td>\n",
       "      <td>NaN</td>\n",
       "      <td>NaN</td>\n",
       "      <td>NaN</td>\n",
       "      <td>NaN</td>\n",
       "      <td>NaN</td>\n",
       "      <td>NaN</td>\n",
       "      <td>2.0</td>\n",
       "    </tr>\n",
       "    <tr>\n",
       "      <th>4</th>\n",
       "      <td>2025-02-20 03:05:00</td>\n",
       "      <td>NaN</td>\n",
       "      <td>NaN</td>\n",
       "      <td>NaN</td>\n",
       "      <td>NaN</td>\n",
       "      <td>NaN</td>\n",
       "      <td>NaN</td>\n",
       "      <td>NaN</td>\n",
       "      <td>1.0</td>\n",
       "    </tr>\n",
       "    <tr>\n",
       "      <th>...</th>\n",
       "      <td>...</td>\n",
       "      <td>...</td>\n",
       "      <td>...</td>\n",
       "      <td>...</td>\n",
       "      <td>...</td>\n",
       "      <td>...</td>\n",
       "      <td>...</td>\n",
       "      <td>...</td>\n",
       "      <td>...</td>\n",
       "    </tr>\n",
       "    <tr>\n",
       "      <th>112</th>\n",
       "      <td>2025-02-20 22:40:00</td>\n",
       "      <td>1.0300</td>\n",
       "      <td>1.0399</td>\n",
       "      <td>1.0275</td>\n",
       "      <td>1.0350</td>\n",
       "      <td>33649.0</td>\n",
       "      <td>0.0</td>\n",
       "      <td>0.0</td>\n",
       "      <td>0.0</td>\n",
       "    </tr>\n",
       "    <tr>\n",
       "      <th>113</th>\n",
       "      <td>2025-02-20 22:45:00</td>\n",
       "      <td>1.0300</td>\n",
       "      <td>1.0499</td>\n",
       "      <td>1.0250</td>\n",
       "      <td>1.0401</td>\n",
       "      <td>39007.0</td>\n",
       "      <td>0.0</td>\n",
       "      <td>0.0</td>\n",
       "      <td>0.0</td>\n",
       "    </tr>\n",
       "    <tr>\n",
       "      <th>114</th>\n",
       "      <td>2025-02-20 22:50:00</td>\n",
       "      <td>1.0451</td>\n",
       "      <td>1.0482</td>\n",
       "      <td>1.0300</td>\n",
       "      <td>1.0318</td>\n",
       "      <td>52855.0</td>\n",
       "      <td>0.0</td>\n",
       "      <td>0.0</td>\n",
       "      <td>0.0</td>\n",
       "    </tr>\n",
       "    <tr>\n",
       "      <th>115</th>\n",
       "      <td>2025-02-20 22:55:00</td>\n",
       "      <td>1.0300</td>\n",
       "      <td>1.0400</td>\n",
       "      <td>1.0200</td>\n",
       "      <td>1.0300</td>\n",
       "      <td>142303.0</td>\n",
       "      <td>0.0</td>\n",
       "      <td>0.0</td>\n",
       "      <td>0.0</td>\n",
       "    </tr>\n",
       "    <tr>\n",
       "      <th>116</th>\n",
       "      <td>2025-02-20 23:00:00</td>\n",
       "      <td>NaN</td>\n",
       "      <td>NaN</td>\n",
       "      <td>NaN</td>\n",
       "      <td>NaN</td>\n",
       "      <td>NaN</td>\n",
       "      <td>NaN</td>\n",
       "      <td>NaN</td>\n",
       "      <td>1.0</td>\n",
       "    </tr>\n",
       "  </tbody>\n",
       "</table>\n",
       "<p>117 rows × 9 columns</p>\n",
       "</div>"
      ],
      "text/plain": [
       "               Datetime    Open    High     Low   Close    Volume  Dividends  \\\n",
       "0   2025-02-20 00:10:00     NaN     NaN     NaN     NaN       NaN        NaN   \n",
       "1   2025-02-20 00:35:00     NaN     NaN     NaN     NaN       NaN        NaN   \n",
       "2   2025-02-20 00:40:00     NaN     NaN     NaN     NaN       NaN        NaN   \n",
       "3   2025-02-20 01:10:00     NaN     NaN     NaN     NaN       NaN        NaN   \n",
       "4   2025-02-20 03:05:00     NaN     NaN     NaN     NaN       NaN        NaN   \n",
       "..                  ...     ...     ...     ...     ...       ...        ...   \n",
       "112 2025-02-20 22:40:00  1.0300  1.0399  1.0275  1.0350   33649.0        0.0   \n",
       "113 2025-02-20 22:45:00  1.0300  1.0499  1.0250  1.0401   39007.0        0.0   \n",
       "114 2025-02-20 22:50:00  1.0451  1.0482  1.0300  1.0318   52855.0        0.0   \n",
       "115 2025-02-20 22:55:00  1.0300  1.0400  1.0200  1.0300  142303.0        0.0   \n",
       "116 2025-02-20 23:00:00     NaN     NaN     NaN     NaN       NaN        NaN   \n",
       "\n",
       "     Stock Splits  mentions  \n",
       "0             NaN       2.0  \n",
       "1             NaN       1.0  \n",
       "2             NaN       1.0  \n",
       "3             NaN       2.0  \n",
       "4             NaN       1.0  \n",
       "..            ...       ...  \n",
       "112           0.0       0.0  \n",
       "113           0.0       0.0  \n",
       "114           0.0       0.0  \n",
       "115           0.0       0.0  \n",
       "116           NaN       1.0  \n",
       "\n",
       "[117 rows x 9 columns]"
      ]
     },
     "execution_count": 105,
     "metadata": {},
     "output_type": "execute_result"
    }
   ],
   "source": [
    "stock_df"
   ]
  }
 ],
 "metadata": {
  "kernelspec": {
   "display_name": ".trading",
   "language": "python",
   "name": "python3"
  },
  "language_info": {
   "codemirror_mode": {
    "name": "ipython",
    "version": 3
   },
   "file_extension": ".py",
   "mimetype": "text/x-python",
   "name": "python",
   "nbconvert_exporter": "python",
   "pygments_lexer": "ipython3",
   "version": "3.12.2"
  }
 },
 "nbformat": 4,
 "nbformat_minor": 2
}
