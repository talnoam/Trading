{
 "cells": [
  {
   "cell_type": "code",
   "execution_count": 1,
   "metadata": {},
   "outputs": [],
   "source": [
    "import os\n",
    "import sys\n",
    "sys.path.append(os.path.abspath(os.path.dirname(os.getcwd())))\n",
    "sys.path.append(os.path.join(os.path.dirname(os.getcwd()), 'data_fetch'))"
   ]
  },
  {
   "cell_type": "code",
   "execution_count": 2,
   "metadata": {},
   "outputs": [
    {
     "name": "stdout",
     "output_type": "stream",
     "text": [
      "Warning - Certain functionality \n",
      "             requires requests_html, which is not installed.\n",
      "             \n",
      "             Install using: \n",
      "             pip install requests_html\n",
      "             \n",
      "             After installation, you may have to restart your Python session.\n"
     ]
    }
   ],
   "source": [
    "import re\n",
    "import pandas as pd\n",
    "from yahoo_fin import stock_info as si\n",
    "import pytz\n",
    "from datetime import datetime, timedelta\n",
    "from collections import Counter\n",
    "from data_fetch.fetch_reddit_comments import get_existing_spreadsheet, authenticate_google_services\n",
    "from data_fetch.credentials import TRADING_FOLDER_ID\n",
    "from data_fetch.utils import bucket_by_time\n",
    "\n",
    "import plotly.graph_objects as go\n",
    "\n",
    "CREDS_PATH = os.path.join(os.path.dirname(os.getcwd()), 'Trading_Access.json')\n",
    "TICKER_PATTERN = r'\\b[A-Z]{1,5}\\b'\n",
    "ISRAEL_TZ = pytz.timezone(\"Asia/Jerusalem\")\n",
    "interval_minutes = 5"
   ]
  },
  {
   "cell_type": "code",
   "execution_count": 3,
   "metadata": {},
   "outputs": [],
   "source": [
    "# Function to extract tickers along with timestamps\n",
    "def extract_tickers(row):\n",
    "    words = set(re.findall(TICKER_PATTERN, row.Body, re.IGNORECASE))  # Remove duplicates within each comment\n",
    "    return [(word.upper(), row.Timestamp) for word in words]\n",
    "\n",
    "def extract_tickers_uppercase(row):\n",
    "    words = set(re.findall(TICKER_PATTERN, row.Body))  # Remove duplicates within each comment\n",
    "    return [(word.upper(), row.Timestamp) for word in words]\n",
    "\n",
    "def validate_tickers(ticker_list):\n",
    "    \"\"\"Validate extracted tickers using Yahoo Finance\"\"\"\n",
    "    # all_tickers = set(si.tickers_dow() + si.tickers_sp500() + si.tickers_nasdaq() + si.tickers_other())\n",
    "    all_tickers = set(si.tickers_dow() + si.tickers_sp500() + si.tickers_nasdaq())\n",
    "    valid_tickers = set()\n",
    "    invalid_tickers = set()\n",
    "\n",
    "    for ticker in ticker_list:\n",
    "        if ticker in all_tickers:\n",
    "            valid_tickers.add(ticker)\n",
    "        else:\n",
    "            invalid_tickers.add(ticker)\n",
    "    \n",
    "    return valid_tickers, invalid_tickers"
   ]
  },
  {
   "cell_type": "code",
   "execution_count": null,
   "metadata": {},
   "outputs": [
    {
     "name": "stdout",
     "output_type": "stream",
     "text": [
      "📄 Spreadsheet 'pennystocks_subreddit_2025-02-18' already exists: https://docs.google.com/spreadsheets/d/1mBUM8bPhV0wOpmujV9gTopSxfQcTWAXpU_Nky8mUYxg\n"
     ]
    }
   ],
   "source": [
    "date = '2025-02-18'\n",
    "sheet_name = f'pennystocks_subreddit_{date}'\n",
    "spreadsheet_id = get_existing_spreadsheet(sheet_name, TRADING_FOLDER_ID, CREDS_PATH)\n",
    "gspread_client, _ = authenticate_google_services(CREDS_PATH)\n",
    "spreadsheet = gspread_client.open_by_key(spreadsheet_id)\n",
    "spreadsheet = spreadsheet.worksheet(date).get_all_values()\n",
    "\n",
    "df = pd.DataFrame(spreadsheet[1:], columns=spreadsheet[0])\n",
    "df[\"Timestamp\"] = pd.to_datetime(df[\"Timestamp\"])\n",
    "df.sort_values(by='Timestamp', inplace=True)\n",
    "\n",
    "comments = df[['Body', 'Timestamp']]\n",
    "\n",
    "tickers_with_time = comments.apply(extract_tickers, axis=1)\n",
    "tickers_with_time = [item for sublist in tickers_with_time for item in sublist]\n",
    "\n",
    "ticker_list = list(dict.fromkeys([ticker for ticker, _ in tickers_with_time]))\n",
    "valid_tickers, invalid_tickers = validate_tickers(ticker_list)\n",
    "\n",
    "time_buckets = bucket_by_time([(ticker, ts.tz_localize(ISRAEL_TZ)) for ticker, ts in tickers_with_time], ISRAEL_TZ, interval_minutes)\n",
    "\n",
    "# Keep only keys that are tuples of length 2 (date, bucket)\n",
    "valid_keys = [key for key in time_buckets.keys() if isinstance(key, tuple) and len(key) == 2]\n",
    "\n",
    "rows = []\n",
    "    \n",
    "# Count mentions in each time bucket\n",
    "for (date, bucket) in sorted(valid_keys):\n",
    "    \n",
    "    start_time = (datetime.strptime(date, \"%Y-%m-%d\").replace(tzinfo=ISRAEL_TZ) + timedelta(minutes=bucket)).strftime(\"%H:%M\")\n",
    "    end_time = (datetime.strptime(date, \"%Y-%m-%d\").replace(tzinfo=ISRAEL_TZ) + timedelta(minutes=bucket + interval_minutes)).strftime(\"%H:%M\")\n",
    "\n",
    "    ticker_counts = Counter(time_buckets[(date, bucket)])\n",
    "    filtered_counts = {ticker: count for ticker, count in ticker_counts.items() if ticker in valid_tickers}\n",
    "\n",
    "    for ticker, count in filtered_counts.items():\n",
    "        rows.append({\"date\": date, \"start_time\": start_time, \"end_time\": end_time, \"ticker\": ticker, \"mentions\": count})\n",
    "\n",
    "# Convert to DataFrame\n",
    "df_ticker_mentions = pd.DataFrame(rows, columns=[\"date\", \"start_time\", \"end_time\", \"ticker\", \"mentions\"])\n",
    "\n",
    "df_ticker_mentions[\"start_datetime\"] = pd.to_datetime(df_ticker_mentions[\"date\"] + \" \" + df_ticker_mentions[\"start_time\"])\n",
    "df_ticker_mentions[\"end_datetime\"] = pd.to_datetime(df_ticker_mentions[\"date\"] + \" \" + df_ticker_mentions[\"end_time\"])\n",
    "df_ticker_mentions.sort_values(by=['date', 'start_time', 'end_time', 'ticker'], inplace=True)\n",
    "df_ticker_mentions = df_ticker_mentions[df_ticker_mentions.date == date].reset_index(drop=True)\n",
    "\n",
    "df_ticker_mentions_daily = df_ticker_mentions.groupby('ticker')['mentions'].sum().reset_index()\n",
    "df_ticker_mentions_daily.sort_values(by='mentions', ascending=False, inplace=True)"
   ]
  },
  {
   "cell_type": "code",
   "execution_count": 15,
   "metadata": {},
   "outputs": [],
   "source": [
    "upper_ticker = comments.apply(extract_tickers_uppercase, axis=1)\n",
    "upper_tickers_with_time = [item for sublist in upper_ticker for item in sublist]\n",
    "upper_ticker_list = list(dict.fromkeys([ticker for ticker, _ in upper_tickers_with_time]))\n",
    "upper_valid_tickers, _ = validate_tickers(upper_ticker_list)\n",
    "\n",
    "upper_df_ticker_mentions_daily = df_ticker_mentions_daily[df_ticker_mentions_daily.ticker.isin(upper_valid_tickers)]"
   ]
  },
  {
   "cell_type": "code",
   "execution_count": 17,
   "metadata": {},
   "outputs": [
    {
     "data": {
      "text/html": [
       "<div>\n",
       "<style scoped>\n",
       "    .dataframe tbody tr th:only-of-type {\n",
       "        vertical-align: middle;\n",
       "    }\n",
       "\n",
       "    .dataframe tbody tr th {\n",
       "        vertical-align: top;\n",
       "    }\n",
       "\n",
       "    .dataframe thead th {\n",
       "        text-align: right;\n",
       "    }\n",
       "</style>\n",
       "<table border=\"1\" class=\"dataframe\">\n",
       "  <thead>\n",
       "    <tr style=\"text-align: right;\">\n",
       "      <th></th>\n",
       "      <th>ticker</th>\n",
       "      <th>mentions</th>\n",
       "    </tr>\n",
       "  </thead>\n",
       "  <tbody>\n",
       "    <tr>\n",
       "      <th>220</th>\n",
       "      <td>SOBR</td>\n",
       "      <td>566</td>\n",
       "    </tr>\n",
       "    <tr>\n",
       "      <th>164</th>\n",
       "      <td>ON</td>\n",
       "      <td>520</td>\n",
       "    </tr>\n",
       "    <tr>\n",
       "      <th>5</th>\n",
       "      <td>ADTX</td>\n",
       "      <td>187</td>\n",
       "    </tr>\n",
       "    <tr>\n",
       "      <th>87</th>\n",
       "      <td>GO</td>\n",
       "      <td>172</td>\n",
       "    </tr>\n",
       "    <tr>\n",
       "      <th>224</th>\n",
       "      <td>SPGC</td>\n",
       "      <td>149</td>\n",
       "    </tr>\n",
       "  </tbody>\n",
       "</table>\n",
       "</div>"
      ],
      "text/plain": [
       "    ticker  mentions\n",
       "220   SOBR       566\n",
       "164     ON       520\n",
       "5     ADTX       187\n",
       "87      GO       172\n",
       "224   SPGC       149"
      ]
     },
     "execution_count": 17,
     "metadata": {},
     "output_type": "execute_result"
    }
   ],
   "source": [
    "upper_df_ticker_mentions_daily.head()"
   ]
  },
  {
   "cell_type": "code",
   "execution_count": 16,
   "metadata": {},
   "outputs": [
    {
     "data": {
      "application/vnd.plotly.v1+json": {
       "config": {
        "plotlyServerURL": "https://plot.ly"
       },
       "data": [
        {
         "line": {
          "width": 2
         },
         "marker": {
          "size": 6
         },
         "mode": "lines+markers",
         "name": "SOBR",
         "type": "scatter",
         "x": [
          "2025-02-18T01:20:00.000000000",
          "2025-02-18T02:20:00.000000000",
          "2025-02-18T02:25:00.000000000",
          "2025-02-18T02:35:00.000000000",
          "2025-02-18T03:30:00.000000000",
          "2025-02-18T03:40:00.000000000",
          "2025-02-18T03:50:00.000000000",
          "2025-02-18T04:00:00.000000000",
          "2025-02-18T04:05:00.000000000",
          "2025-02-18T04:10:00.000000000",
          "2025-02-18T04:25:00.000000000",
          "2025-02-18T04:45:00.000000000",
          "2025-02-18T04:55:00.000000000",
          "2025-02-18T05:50:00.000000000",
          "2025-02-18T06:15:00.000000000",
          "2025-02-18T06:20:00.000000000",
          "2025-02-18T06:25:00.000000000",
          "2025-02-18T06:35:00.000000000",
          "2025-02-18T06:45:00.000000000",
          "2025-02-18T06:55:00.000000000",
          "2025-02-18T07:00:00.000000000",
          "2025-02-18T07:20:00.000000000",
          "2025-02-18T07:35:00.000000000",
          "2025-02-18T07:50:00.000000000",
          "2025-02-18T08:00:00.000000000",
          "2025-02-18T08:05:00.000000000",
          "2025-02-18T08:25:00.000000000",
          "2025-02-18T08:30:00.000000000",
          "2025-02-18T08:35:00.000000000",
          "2025-02-18T08:50:00.000000000",
          "2025-02-18T09:05:00.000000000",
          "2025-02-18T09:10:00.000000000",
          "2025-02-18T09:25:00.000000000",
          "2025-02-18T09:35:00.000000000",
          "2025-02-18T10:20:00.000000000",
          "2025-02-18T11:15:00.000000000",
          "2025-02-18T11:25:00.000000000",
          "2025-02-18T11:30:00.000000000",
          "2025-02-18T11:35:00.000000000",
          "2025-02-18T11:40:00.000000000",
          "2025-02-18T11:45:00.000000000",
          "2025-02-18T11:55:00.000000000",
          "2025-02-18T12:10:00.000000000",
          "2025-02-18T12:25:00.000000000",
          "2025-02-18T12:55:00.000000000",
          "2025-02-18T13:15:00.000000000",
          "2025-02-18T13:35:00.000000000",
          "2025-02-18T13:40:00.000000000",
          "2025-02-18T13:45:00.000000000",
          "2025-02-18T13:50:00.000000000",
          "2025-02-18T13:55:00.000000000",
          "2025-02-18T14:10:00.000000000",
          "2025-02-18T14:15:00.000000000",
          "2025-02-18T14:25:00.000000000",
          "2025-02-18T14:30:00.000000000",
          "2025-02-18T14:35:00.000000000",
          "2025-02-18T14:40:00.000000000",
          "2025-02-18T14:45:00.000000000",
          "2025-02-18T14:55:00.000000000",
          "2025-02-18T15:00:00.000000000",
          "2025-02-18T15:05:00.000000000",
          "2025-02-18T15:10:00.000000000",
          "2025-02-18T15:15:00.000000000",
          "2025-02-18T15:20:00.000000000",
          "2025-02-18T15:25:00.000000000",
          "2025-02-18T15:30:00.000000000",
          "2025-02-18T15:35:00.000000000",
          "2025-02-18T15:40:00.000000000",
          "2025-02-18T15:45:00.000000000",
          "2025-02-18T15:50:00.000000000",
          "2025-02-18T15:55:00.000000000",
          "2025-02-18T16:00:00.000000000",
          "2025-02-18T16:05:00.000000000",
          "2025-02-18T16:10:00.000000000",
          "2025-02-18T16:15:00.000000000",
          "2025-02-18T16:20:00.000000000",
          "2025-02-18T16:25:00.000000000",
          "2025-02-18T16:30:00.000000000",
          "2025-02-18T16:35:00.000000000",
          "2025-02-18T16:40:00.000000000",
          "2025-02-18T16:45:00.000000000",
          "2025-02-18T16:50:00.000000000",
          "2025-02-18T16:55:00.000000000",
          "2025-02-18T17:00:00.000000000",
          "2025-02-18T17:05:00.000000000",
          "2025-02-18T17:10:00.000000000",
          "2025-02-18T17:15:00.000000000",
          "2025-02-18T17:20:00.000000000",
          "2025-02-18T17:25:00.000000000",
          "2025-02-18T17:30:00.000000000",
          "2025-02-18T17:35:00.000000000",
          "2025-02-18T17:40:00.000000000",
          "2025-02-18T17:45:00.000000000",
          "2025-02-18T17:50:00.000000000",
          "2025-02-18T17:55:00.000000000",
          "2025-02-18T18:00:00.000000000",
          "2025-02-18T18:05:00.000000000",
          "2025-02-18T18:10:00.000000000",
          "2025-02-18T18:15:00.000000000",
          "2025-02-18T18:20:00.000000000",
          "2025-02-18T18:25:00.000000000",
          "2025-02-18T18:30:00.000000000",
          "2025-02-18T18:35:00.000000000",
          "2025-02-18T18:40:00.000000000",
          "2025-02-18T18:45:00.000000000",
          "2025-02-18T18:50:00.000000000",
          "2025-02-18T18:55:00.000000000",
          "2025-02-18T19:00:00.000000000",
          "2025-02-18T19:05:00.000000000",
          "2025-02-18T19:10:00.000000000",
          "2025-02-18T19:15:00.000000000",
          "2025-02-18T19:20:00.000000000",
          "2025-02-18T19:25:00.000000000",
          "2025-02-18T19:30:00.000000000",
          "2025-02-18T19:35:00.000000000",
          "2025-02-18T19:40:00.000000000",
          "2025-02-18T19:45:00.000000000",
          "2025-02-18T19:50:00.000000000",
          "2025-02-18T19:55:00.000000000",
          "2025-02-18T20:00:00.000000000",
          "2025-02-18T20:05:00.000000000",
          "2025-02-18T20:10:00.000000000",
          "2025-02-18T20:15:00.000000000",
          "2025-02-18T20:20:00.000000000",
          "2025-02-18T20:25:00.000000000",
          "2025-02-18T20:30:00.000000000",
          "2025-02-18T20:35:00.000000000",
          "2025-02-18T20:40:00.000000000",
          "2025-02-18T20:45:00.000000000",
          "2025-02-18T20:50:00.000000000",
          "2025-02-18T20:55:00.000000000",
          "2025-02-18T21:00:00.000000000",
          "2025-02-18T21:05:00.000000000",
          "2025-02-18T21:10:00.000000000",
          "2025-02-18T21:15:00.000000000",
          "2025-02-18T21:20:00.000000000",
          "2025-02-18T21:25:00.000000000",
          "2025-02-18T21:30:00.000000000",
          "2025-02-18T21:35:00.000000000",
          "2025-02-18T21:40:00.000000000",
          "2025-02-18T21:45:00.000000000",
          "2025-02-18T21:50:00.000000000",
          "2025-02-18T22:00:00.000000000",
          "2025-02-18T22:05:00.000000000",
          "2025-02-18T22:10:00.000000000",
          "2025-02-18T22:15:00.000000000",
          "2025-02-18T22:20:00.000000000",
          "2025-02-18T22:25:00.000000000",
          "2025-02-18T22:30:00.000000000",
          "2025-02-18T22:35:00.000000000",
          "2025-02-18T22:40:00.000000000",
          "2025-02-18T22:50:00.000000000",
          "2025-02-18T22:55:00.000000000",
          "2025-02-18T23:00:00.000000000",
          "2025-02-18T23:05:00.000000000",
          "2025-02-18T23:10:00.000000000",
          "2025-02-18T23:15:00.000000000",
          "2025-02-18T23:20:00.000000000",
          "2025-02-18T23:25:00.000000000",
          "2025-02-18T23:30:00.000000000",
          "2025-02-18T23:35:00.000000000",
          "2025-02-18T23:40:00.000000000",
          "2025-02-18T23:45:00.000000000",
          "2025-02-18T23:50:00.000000000"
         ],
         "y": {
          "bdata": "AQEBAQEBAgIBAwEBAQEBAgEBAQMBAgIBAQECAwEBAQEBAQIBBgIBAQICAQQBAQMCAgEDAQEECgQCBAIFBQMCBAcGAwICBgQFAgIEBgIBBAUEBwoNCQwFEg0EBwoIAgIDBQUCDAYGBQEBBQUDAQMHBAUIBQMDCQ4JBQMCAgIDBAMBAgMEBAIFAwYEBQUCAQYDAgMEAwQBAwECAgQCAgIBAgIBAQE=",
          "dtype": "i1"
         }
        }
       ],
       "layout": {
        "template": {
         "data": {
          "bar": [
           {
            "error_x": {
             "color": "#2a3f5f"
            },
            "error_y": {
             "color": "#2a3f5f"
            },
            "marker": {
             "line": {
              "color": "white",
              "width": 0.5
             },
             "pattern": {
              "fillmode": "overlay",
              "size": 10,
              "solidity": 0.2
             }
            },
            "type": "bar"
           }
          ],
          "barpolar": [
           {
            "marker": {
             "line": {
              "color": "white",
              "width": 0.5
             },
             "pattern": {
              "fillmode": "overlay",
              "size": 10,
              "solidity": 0.2
             }
            },
            "type": "barpolar"
           }
          ],
          "carpet": [
           {
            "aaxis": {
             "endlinecolor": "#2a3f5f",
             "gridcolor": "#C8D4E3",
             "linecolor": "#C8D4E3",
             "minorgridcolor": "#C8D4E3",
             "startlinecolor": "#2a3f5f"
            },
            "baxis": {
             "endlinecolor": "#2a3f5f",
             "gridcolor": "#C8D4E3",
             "linecolor": "#C8D4E3",
             "minorgridcolor": "#C8D4E3",
             "startlinecolor": "#2a3f5f"
            },
            "type": "carpet"
           }
          ],
          "choropleth": [
           {
            "colorbar": {
             "outlinewidth": 0,
             "ticks": ""
            },
            "type": "choropleth"
           }
          ],
          "contour": [
           {
            "colorbar": {
             "outlinewidth": 0,
             "ticks": ""
            },
            "colorscale": [
             [
              0,
              "#0d0887"
             ],
             [
              0.1111111111111111,
              "#46039f"
             ],
             [
              0.2222222222222222,
              "#7201a8"
             ],
             [
              0.3333333333333333,
              "#9c179e"
             ],
             [
              0.4444444444444444,
              "#bd3786"
             ],
             [
              0.5555555555555556,
              "#d8576b"
             ],
             [
              0.6666666666666666,
              "#ed7953"
             ],
             [
              0.7777777777777778,
              "#fb9f3a"
             ],
             [
              0.8888888888888888,
              "#fdca26"
             ],
             [
              1,
              "#f0f921"
             ]
            ],
            "type": "contour"
           }
          ],
          "contourcarpet": [
           {
            "colorbar": {
             "outlinewidth": 0,
             "ticks": ""
            },
            "type": "contourcarpet"
           }
          ],
          "heatmap": [
           {
            "colorbar": {
             "outlinewidth": 0,
             "ticks": ""
            },
            "colorscale": [
             [
              0,
              "#0d0887"
             ],
             [
              0.1111111111111111,
              "#46039f"
             ],
             [
              0.2222222222222222,
              "#7201a8"
             ],
             [
              0.3333333333333333,
              "#9c179e"
             ],
             [
              0.4444444444444444,
              "#bd3786"
             ],
             [
              0.5555555555555556,
              "#d8576b"
             ],
             [
              0.6666666666666666,
              "#ed7953"
             ],
             [
              0.7777777777777778,
              "#fb9f3a"
             ],
             [
              0.8888888888888888,
              "#fdca26"
             ],
             [
              1,
              "#f0f921"
             ]
            ],
            "type": "heatmap"
           }
          ],
          "histogram": [
           {
            "marker": {
             "pattern": {
              "fillmode": "overlay",
              "size": 10,
              "solidity": 0.2
             }
            },
            "type": "histogram"
           }
          ],
          "histogram2d": [
           {
            "colorbar": {
             "outlinewidth": 0,
             "ticks": ""
            },
            "colorscale": [
             [
              0,
              "#0d0887"
             ],
             [
              0.1111111111111111,
              "#46039f"
             ],
             [
              0.2222222222222222,
              "#7201a8"
             ],
             [
              0.3333333333333333,
              "#9c179e"
             ],
             [
              0.4444444444444444,
              "#bd3786"
             ],
             [
              0.5555555555555556,
              "#d8576b"
             ],
             [
              0.6666666666666666,
              "#ed7953"
             ],
             [
              0.7777777777777778,
              "#fb9f3a"
             ],
             [
              0.8888888888888888,
              "#fdca26"
             ],
             [
              1,
              "#f0f921"
             ]
            ],
            "type": "histogram2d"
           }
          ],
          "histogram2dcontour": [
           {
            "colorbar": {
             "outlinewidth": 0,
             "ticks": ""
            },
            "colorscale": [
             [
              0,
              "#0d0887"
             ],
             [
              0.1111111111111111,
              "#46039f"
             ],
             [
              0.2222222222222222,
              "#7201a8"
             ],
             [
              0.3333333333333333,
              "#9c179e"
             ],
             [
              0.4444444444444444,
              "#bd3786"
             ],
             [
              0.5555555555555556,
              "#d8576b"
             ],
             [
              0.6666666666666666,
              "#ed7953"
             ],
             [
              0.7777777777777778,
              "#fb9f3a"
             ],
             [
              0.8888888888888888,
              "#fdca26"
             ],
             [
              1,
              "#f0f921"
             ]
            ],
            "type": "histogram2dcontour"
           }
          ],
          "mesh3d": [
           {
            "colorbar": {
             "outlinewidth": 0,
             "ticks": ""
            },
            "type": "mesh3d"
           }
          ],
          "parcoords": [
           {
            "line": {
             "colorbar": {
              "outlinewidth": 0,
              "ticks": ""
             }
            },
            "type": "parcoords"
           }
          ],
          "pie": [
           {
            "automargin": true,
            "type": "pie"
           }
          ],
          "scatter": [
           {
            "fillpattern": {
             "fillmode": "overlay",
             "size": 10,
             "solidity": 0.2
            },
            "type": "scatter"
           }
          ],
          "scatter3d": [
           {
            "line": {
             "colorbar": {
              "outlinewidth": 0,
              "ticks": ""
             }
            },
            "marker": {
             "colorbar": {
              "outlinewidth": 0,
              "ticks": ""
             }
            },
            "type": "scatter3d"
           }
          ],
          "scattercarpet": [
           {
            "marker": {
             "colorbar": {
              "outlinewidth": 0,
              "ticks": ""
             }
            },
            "type": "scattercarpet"
           }
          ],
          "scattergeo": [
           {
            "marker": {
             "colorbar": {
              "outlinewidth": 0,
              "ticks": ""
             }
            },
            "type": "scattergeo"
           }
          ],
          "scattergl": [
           {
            "marker": {
             "colorbar": {
              "outlinewidth": 0,
              "ticks": ""
             }
            },
            "type": "scattergl"
           }
          ],
          "scattermap": [
           {
            "marker": {
             "colorbar": {
              "outlinewidth": 0,
              "ticks": ""
             }
            },
            "type": "scattermap"
           }
          ],
          "scattermapbox": [
           {
            "marker": {
             "colorbar": {
              "outlinewidth": 0,
              "ticks": ""
             }
            },
            "type": "scattermapbox"
           }
          ],
          "scatterpolar": [
           {
            "marker": {
             "colorbar": {
              "outlinewidth": 0,
              "ticks": ""
             }
            },
            "type": "scatterpolar"
           }
          ],
          "scatterpolargl": [
           {
            "marker": {
             "colorbar": {
              "outlinewidth": 0,
              "ticks": ""
             }
            },
            "type": "scatterpolargl"
           }
          ],
          "scatterternary": [
           {
            "marker": {
             "colorbar": {
              "outlinewidth": 0,
              "ticks": ""
             }
            },
            "type": "scatterternary"
           }
          ],
          "surface": [
           {
            "colorbar": {
             "outlinewidth": 0,
             "ticks": ""
            },
            "colorscale": [
             [
              0,
              "#0d0887"
             ],
             [
              0.1111111111111111,
              "#46039f"
             ],
             [
              0.2222222222222222,
              "#7201a8"
             ],
             [
              0.3333333333333333,
              "#9c179e"
             ],
             [
              0.4444444444444444,
              "#bd3786"
             ],
             [
              0.5555555555555556,
              "#d8576b"
             ],
             [
              0.6666666666666666,
              "#ed7953"
             ],
             [
              0.7777777777777778,
              "#fb9f3a"
             ],
             [
              0.8888888888888888,
              "#fdca26"
             ],
             [
              1,
              "#f0f921"
             ]
            ],
            "type": "surface"
           }
          ],
          "table": [
           {
            "cells": {
             "fill": {
              "color": "#EBF0F8"
             },
             "line": {
              "color": "white"
             }
            },
            "header": {
             "fill": {
              "color": "#C8D4E3"
             },
             "line": {
              "color": "white"
             }
            },
            "type": "table"
           }
          ]
         },
         "layout": {
          "annotationdefaults": {
           "arrowcolor": "#2a3f5f",
           "arrowhead": 0,
           "arrowwidth": 1
          },
          "autotypenumbers": "strict",
          "coloraxis": {
           "colorbar": {
            "outlinewidth": 0,
            "ticks": ""
           }
          },
          "colorscale": {
           "diverging": [
            [
             0,
             "#8e0152"
            ],
            [
             0.1,
             "#c51b7d"
            ],
            [
             0.2,
             "#de77ae"
            ],
            [
             0.3,
             "#f1b6da"
            ],
            [
             0.4,
             "#fde0ef"
            ],
            [
             0.5,
             "#f7f7f7"
            ],
            [
             0.6,
             "#e6f5d0"
            ],
            [
             0.7,
             "#b8e186"
            ],
            [
             0.8,
             "#7fbc41"
            ],
            [
             0.9,
             "#4d9221"
            ],
            [
             1,
             "#276419"
            ]
           ],
           "sequential": [
            [
             0,
             "#0d0887"
            ],
            [
             0.1111111111111111,
             "#46039f"
            ],
            [
             0.2222222222222222,
             "#7201a8"
            ],
            [
             0.3333333333333333,
             "#9c179e"
            ],
            [
             0.4444444444444444,
             "#bd3786"
            ],
            [
             0.5555555555555556,
             "#d8576b"
            ],
            [
             0.6666666666666666,
             "#ed7953"
            ],
            [
             0.7777777777777778,
             "#fb9f3a"
            ],
            [
             0.8888888888888888,
             "#fdca26"
            ],
            [
             1,
             "#f0f921"
            ]
           ],
           "sequentialminus": [
            [
             0,
             "#0d0887"
            ],
            [
             0.1111111111111111,
             "#46039f"
            ],
            [
             0.2222222222222222,
             "#7201a8"
            ],
            [
             0.3333333333333333,
             "#9c179e"
            ],
            [
             0.4444444444444444,
             "#bd3786"
            ],
            [
             0.5555555555555556,
             "#d8576b"
            ],
            [
             0.6666666666666666,
             "#ed7953"
            ],
            [
             0.7777777777777778,
             "#fb9f3a"
            ],
            [
             0.8888888888888888,
             "#fdca26"
            ],
            [
             1,
             "#f0f921"
            ]
           ]
          },
          "colorway": [
           "#636efa",
           "#EF553B",
           "#00cc96",
           "#ab63fa",
           "#FFA15A",
           "#19d3f3",
           "#FF6692",
           "#B6E880",
           "#FF97FF",
           "#FECB52"
          ],
          "font": {
           "color": "#2a3f5f"
          },
          "geo": {
           "bgcolor": "white",
           "lakecolor": "white",
           "landcolor": "white",
           "showlakes": true,
           "showland": true,
           "subunitcolor": "#C8D4E3"
          },
          "hoverlabel": {
           "align": "left"
          },
          "hovermode": "closest",
          "mapbox": {
           "style": "light"
          },
          "paper_bgcolor": "white",
          "plot_bgcolor": "white",
          "polar": {
           "angularaxis": {
            "gridcolor": "#EBF0F8",
            "linecolor": "#EBF0F8",
            "ticks": ""
           },
           "bgcolor": "white",
           "radialaxis": {
            "gridcolor": "#EBF0F8",
            "linecolor": "#EBF0F8",
            "ticks": ""
           }
          },
          "scene": {
           "xaxis": {
            "backgroundcolor": "white",
            "gridcolor": "#DFE8F3",
            "gridwidth": 2,
            "linecolor": "#EBF0F8",
            "showbackground": true,
            "ticks": "",
            "zerolinecolor": "#EBF0F8"
           },
           "yaxis": {
            "backgroundcolor": "white",
            "gridcolor": "#DFE8F3",
            "gridwidth": 2,
            "linecolor": "#EBF0F8",
            "showbackground": true,
            "ticks": "",
            "zerolinecolor": "#EBF0F8"
           },
           "zaxis": {
            "backgroundcolor": "white",
            "gridcolor": "#DFE8F3",
            "gridwidth": 2,
            "linecolor": "#EBF0F8",
            "showbackground": true,
            "ticks": "",
            "zerolinecolor": "#EBF0F8"
           }
          },
          "shapedefaults": {
           "line": {
            "color": "#2a3f5f"
           }
          },
          "ternary": {
           "aaxis": {
            "gridcolor": "#DFE8F3",
            "linecolor": "#A2B1C6",
            "ticks": ""
           },
           "baxis": {
            "gridcolor": "#DFE8F3",
            "linecolor": "#A2B1C6",
            "ticks": ""
           },
           "bgcolor": "white",
           "caxis": {
            "gridcolor": "#DFE8F3",
            "linecolor": "#A2B1C6",
            "ticks": ""
           }
          },
          "title": {
           "x": 0.05
          },
          "xaxis": {
           "automargin": true,
           "gridcolor": "#EBF0F8",
           "linecolor": "#EBF0F8",
           "ticks": "",
           "title": {
            "standoff": 15
           },
           "zerolinecolor": "#EBF0F8",
           "zerolinewidth": 2
          },
          "yaxis": {
           "automargin": true,
           "gridcolor": "#EBF0F8",
           "linecolor": "#EBF0F8",
           "ticks": "",
           "title": {
            "standoff": 15
           },
           "zerolinecolor": "#EBF0F8",
           "zerolinewidth": 2
          }
         }
        },
        "title": {
         "text": "Mentions of SOBR Over Time"
        },
        "xaxis": {
         "showgrid": true,
         "title": {
          "text": "Time"
         }
        },
        "yaxis": {
         "showgrid": true,
         "title": {
          "text": "Mentions"
         }
        }
       }
      }
     },
     "metadata": {},
     "output_type": "display_data"
    }
   ],
   "source": [
    "ticker = 'SOBR'\n",
    "df_filtered = df_ticker_mentions[df_ticker_mentions.ticker == ticker][['end_datetime', 'mentions']]\n",
    "\n",
    "# Create the Plotly figure\n",
    "fig = go.Figure()\n",
    "\n",
    "fig.add_trace(go.Scatter(\n",
    "    x=df_filtered['end_datetime'],\n",
    "    y=df_filtered['mentions'],\n",
    "    mode='lines+markers',  # Line chart with markers at each point\n",
    "    name=ticker,\n",
    "    line=dict(width=2),\n",
    "    marker=dict(size=6)\n",
    "))\n",
    "\n",
    "# Customize layout\n",
    "fig.update_layout(\n",
    "    title=f\"Mentions of {ticker} Over Time\",\n",
    "    xaxis_title=\"Time\",\n",
    "    yaxis_title=\"Mentions\",\n",
    "    xaxis=dict(showgrid=True),\n",
    "    yaxis=dict(showgrid=True),\n",
    "    template=\"plotly_white\"\n",
    ")\n",
    "\n",
    "# Show plot\n",
    "fig.show()\n"
   ]
  },
  {
   "cell_type": "code",
   "execution_count": 40,
   "metadata": {},
   "outputs": [
    {
     "data": {
      "text/html": [
       "<div>\n",
       "<style scoped>\n",
       "    .dataframe tbody tr th:only-of-type {\n",
       "        vertical-align: middle;\n",
       "    }\n",
       "\n",
       "    .dataframe tbody tr th {\n",
       "        vertical-align: top;\n",
       "    }\n",
       "\n",
       "    .dataframe thead th {\n",
       "        text-align: right;\n",
       "    }\n",
       "</style>\n",
       "<table border=\"1\" class=\"dataframe\">\n",
       "  <thead>\n",
       "    <tr style=\"text-align: right;\">\n",
       "      <th></th>\n",
       "      <th>ticker</th>\n",
       "      <th>mentions</th>\n",
       "    </tr>\n",
       "  </thead>\n",
       "  <tbody>\n",
       "    <tr>\n",
       "      <th>221</th>\n",
       "      <td>SOBR</td>\n",
       "      <td>560</td>\n",
       "    </tr>\n",
       "    <tr>\n",
       "      <th>165</th>\n",
       "      <td>ON</td>\n",
       "      <td>508</td>\n",
       "    </tr>\n",
       "    <tr>\n",
       "      <th>6</th>\n",
       "      <td>ADTX</td>\n",
       "      <td>177</td>\n",
       "    </tr>\n",
       "    <tr>\n",
       "      <th>88</th>\n",
       "      <td>GO</td>\n",
       "      <td>169</td>\n",
       "    </tr>\n",
       "    <tr>\n",
       "      <th>225</th>\n",
       "      <td>SPGC</td>\n",
       "      <td>150</td>\n",
       "    </tr>\n",
       "    <tr>\n",
       "      <th>145</th>\n",
       "      <td>MGOL</td>\n",
       "      <td>143</td>\n",
       "    </tr>\n",
       "    <tr>\n",
       "      <th>52</th>\n",
       "      <td>DGLY</td>\n",
       "      <td>138</td>\n",
       "    </tr>\n",
       "    <tr>\n",
       "      <th>44</th>\n",
       "      <td>CNSP</td>\n",
       "      <td>131</td>\n",
       "    </tr>\n",
       "    <tr>\n",
       "      <th>19</th>\n",
       "      <td>BACK</td>\n",
       "      <td>130</td>\n",
       "    </tr>\n",
       "    <tr>\n",
       "      <th>227</th>\n",
       "      <td>STAI</td>\n",
       "      <td>121</td>\n",
       "    </tr>\n",
       "    <tr>\n",
       "      <th>117</th>\n",
       "      <td>KWE</td>\n",
       "      <td>81</td>\n",
       "    </tr>\n",
       "    <tr>\n",
       "      <th>251</th>\n",
       "      <td>TWG</td>\n",
       "      <td>63</td>\n",
       "    </tr>\n",
       "    <tr>\n",
       "      <th>87</th>\n",
       "      <td>GNPX</td>\n",
       "      <td>47</td>\n",
       "    </tr>\n",
       "    <tr>\n",
       "      <th>158</th>\n",
       "      <td>NICE</td>\n",
       "      <td>37</td>\n",
       "    </tr>\n",
       "    <tr>\n",
       "      <th>162</th>\n",
       "      <td>OCEA</td>\n",
       "      <td>29</td>\n",
       "    </tr>\n",
       "    <tr>\n",
       "      <th>226</th>\n",
       "      <td>SRM</td>\n",
       "      <td>22</td>\n",
       "    </tr>\n",
       "    <tr>\n",
       "      <th>49</th>\n",
       "      <td>CYN</td>\n",
       "      <td>21</td>\n",
       "    </tr>\n",
       "    <tr>\n",
       "      <th>151</th>\n",
       "      <td>MVST</td>\n",
       "      <td>18</td>\n",
       "    </tr>\n",
       "    <tr>\n",
       "      <th>137</th>\n",
       "      <td>LXRX</td>\n",
       "      <td>16</td>\n",
       "    </tr>\n",
       "    <tr>\n",
       "      <th>64</th>\n",
       "      <td>EVER</td>\n",
       "      <td>16</td>\n",
       "    </tr>\n",
       "    <tr>\n",
       "      <th>58</th>\n",
       "      <td>EFOI</td>\n",
       "      <td>13</td>\n",
       "    </tr>\n",
       "    <tr>\n",
       "      <th>90</th>\n",
       "      <td>GRAB</td>\n",
       "      <td>11</td>\n",
       "    </tr>\n",
       "    <tr>\n",
       "      <th>85</th>\n",
       "      <td>GLYC</td>\n",
       "      <td>11</td>\n",
       "    </tr>\n",
       "    <tr>\n",
       "      <th>172</th>\n",
       "      <td>PEV</td>\n",
       "      <td>11</td>\n",
       "    </tr>\n",
       "    <tr>\n",
       "      <th>76</th>\n",
       "      <td>FTEK</td>\n",
       "      <td>10</td>\n",
       "    </tr>\n",
       "    <tr>\n",
       "      <th>186</th>\n",
       "      <td>PRPH</td>\n",
       "      <td>8</td>\n",
       "    </tr>\n",
       "    <tr>\n",
       "      <th>142</th>\n",
       "      <td>MBRX</td>\n",
       "      <td>8</td>\n",
       "    </tr>\n",
       "    <tr>\n",
       "      <th>77</th>\n",
       "      <td>FTEL</td>\n",
       "      <td>8</td>\n",
       "    </tr>\n",
       "    <tr>\n",
       "      <th>126</th>\n",
       "      <td>LITM</td>\n",
       "      <td>8</td>\n",
       "    </tr>\n",
       "    <tr>\n",
       "      <th>25</th>\n",
       "      <td>BHAT</td>\n",
       "      <td>7</td>\n",
       "    </tr>\n",
       "    <tr>\n",
       "      <th>56</th>\n",
       "      <td>EDBL</td>\n",
       "      <td>7</td>\n",
       "    </tr>\n",
       "    <tr>\n",
       "      <th>101</th>\n",
       "      <td>IBKR</td>\n",
       "      <td>6</td>\n",
       "    </tr>\n",
       "    <tr>\n",
       "      <th>60</th>\n",
       "      <td>ELEV</td>\n",
       "      <td>6</td>\n",
       "    </tr>\n",
       "    <tr>\n",
       "      <th>241</th>\n",
       "      <td>TLRY</td>\n",
       "      <td>6</td>\n",
       "    </tr>\n",
       "    <tr>\n",
       "      <th>127</th>\n",
       "      <td>LIVE</td>\n",
       "      <td>6</td>\n",
       "    </tr>\n",
       "    <tr>\n",
       "      <th>14</th>\n",
       "      <td>API</td>\n",
       "      <td>5</td>\n",
       "    </tr>\n",
       "    <tr>\n",
       "      <th>187</th>\n",
       "      <td>PT</td>\n",
       "      <td>5</td>\n",
       "    </tr>\n",
       "    <tr>\n",
       "      <th>119</th>\n",
       "      <td>LAES</td>\n",
       "      <td>5</td>\n",
       "    </tr>\n",
       "    <tr>\n",
       "      <th>267</th>\n",
       "      <td>XAIR</td>\n",
       "      <td>5</td>\n",
       "    </tr>\n",
       "    <tr>\n",
       "      <th>136</th>\n",
       "      <td>LUNR</td>\n",
       "      <td>5</td>\n",
       "    </tr>\n",
       "    <tr>\n",
       "      <th>17</th>\n",
       "      <td>ATOS</td>\n",
       "      <td>5</td>\n",
       "    </tr>\n",
       "    <tr>\n",
       "      <th>169</th>\n",
       "      <td>OTLY</td>\n",
       "      <td>5</td>\n",
       "    </tr>\n",
       "    <tr>\n",
       "      <th>82</th>\n",
       "      <td>GCL</td>\n",
       "      <td>5</td>\n",
       "    </tr>\n",
       "    <tr>\n",
       "      <th>41</th>\n",
       "      <td>CGBS</td>\n",
       "      <td>4</td>\n",
       "    </tr>\n",
       "    <tr>\n",
       "      <th>10</th>\n",
       "      <td>ALLO</td>\n",
       "      <td>4</td>\n",
       "    </tr>\n",
       "    <tr>\n",
       "      <th>123</th>\n",
       "      <td>LICN</td>\n",
       "      <td>4</td>\n",
       "    </tr>\n",
       "    <tr>\n",
       "      <th>255</th>\n",
       "      <td>V</td>\n",
       "      <td>4</td>\n",
       "    </tr>\n",
       "    <tr>\n",
       "      <th>73</th>\n",
       "      <td>FINE</td>\n",
       "      <td>4</td>\n",
       "    </tr>\n",
       "    <tr>\n",
       "      <th>110</th>\n",
       "      <td>IPHA</td>\n",
       "      <td>4</td>\n",
       "    </tr>\n",
       "    <tr>\n",
       "      <th>257</th>\n",
       "      <td>VRPX</td>\n",
       "      <td>4</td>\n",
       "    </tr>\n",
       "  </tbody>\n",
       "</table>\n",
       "</div>"
      ],
      "text/plain": [
       "    ticker  mentions\n",
       "221   SOBR       560\n",
       "165     ON       508\n",
       "6     ADTX       177\n",
       "88      GO       169\n",
       "225   SPGC       150\n",
       "145   MGOL       143\n",
       "52    DGLY       138\n",
       "44    CNSP       131\n",
       "19    BACK       130\n",
       "227   STAI       121\n",
       "117    KWE        81\n",
       "251    TWG        63\n",
       "87    GNPX        47\n",
       "158   NICE        37\n",
       "162   OCEA        29\n",
       "226    SRM        22\n",
       "49     CYN        21\n",
       "151   MVST        18\n",
       "137   LXRX        16\n",
       "64    EVER        16\n",
       "58    EFOI        13\n",
       "90    GRAB        11\n",
       "85    GLYC        11\n",
       "172    PEV        11\n",
       "76    FTEK        10\n",
       "186   PRPH         8\n",
       "142   MBRX         8\n",
       "77    FTEL         8\n",
       "126   LITM         8\n",
       "25    BHAT         7\n",
       "56    EDBL         7\n",
       "101   IBKR         6\n",
       "60    ELEV         6\n",
       "241   TLRY         6\n",
       "127   LIVE         6\n",
       "14     API         5\n",
       "187     PT         5\n",
       "119   LAES         5\n",
       "267   XAIR         5\n",
       "136   LUNR         5\n",
       "17    ATOS         5\n",
       "169   OTLY         5\n",
       "82     GCL         5\n",
       "41    CGBS         4\n",
       "10    ALLO         4\n",
       "123   LICN         4\n",
       "255      V         4\n",
       "73    FINE         4\n",
       "110   IPHA         4\n",
       "257   VRPX         4"
      ]
     },
     "execution_count": 40,
     "metadata": {},
     "output_type": "execute_result"
    }
   ],
   "source": [
    "upper_df_ticker_mentions_daily.iloc[:50]"
   ]
  }
 ],
 "metadata": {
  "kernelspec": {
   "display_name": ".trading",
   "language": "python",
   "name": "python3"
  },
  "language_info": {
   "codemirror_mode": {
    "name": "ipython",
    "version": 3
   },
   "file_extension": ".py",
   "mimetype": "text/x-python",
   "name": "python",
   "nbconvert_exporter": "python",
   "pygments_lexer": "ipython3",
   "version": "3.12.2"
  }
 },
 "nbformat": 4,
 "nbformat_minor": 2
}
